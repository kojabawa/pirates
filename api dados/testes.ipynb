{
 "cells": [
  {
   "cell_type": "code",
   "execution_count": 1,
   "metadata": {},
   "outputs": [],
   "source": [
    "import datetime\n",
    "import pandas as pd\n",
    "import matplotlib.pyplot as plt"
   ]
  },
  {
   "cell_type": "code",
   "execution_count": 45,
   "metadata": {},
   "outputs": [],
   "source": [
    "from scipy import stats"
   ]
  },
  {
   "cell_type": "code",
   "execution_count": 32,
   "metadata": {},
   "outputs": [],
   "source": [
    "base = pd.read_csv(\"C:/Users/dwsur/pirates.py/btcusd.csv\", skiprows=1)"
   ]
  },
  {
   "cell_type": "code",
   "execution_count": 37,
   "metadata": {},
   "outputs": [],
   "source": [
    "base = base.iloc[::-1]"
   ]
  },
  {
   "cell_type": "code",
   "execution_count": 22,
   "metadata": {},
   "outputs": [],
   "source": [
    "base=base.iloc[30:]"
   ]
  },
  {
   "cell_type": "code",
   "execution_count": 23,
   "metadata": {},
   "outputs": [
    {
     "data": {
      "text/html": [
       "<div>\n",
       "<style scoped>\n",
       "    .dataframe tbody tr th:only-of-type {\n",
       "        vertical-align: middle;\n",
       "    }\n",
       "\n",
       "    .dataframe tbody tr th {\n",
       "        vertical-align: top;\n",
       "    }\n",
       "\n",
       "    .dataframe thead th {\n",
       "        text-align: right;\n",
       "    }\n",
       "</style>\n",
       "<table border=\"1\" class=\"dataframe\">\n",
       "  <thead>\n",
       "    <tr style=\"text-align: right;\">\n",
       "      <th></th>\n",
       "      <th>Unix Timestamp</th>\n",
       "      <th>Date</th>\n",
       "      <th>Symbol</th>\n",
       "      <th>Open</th>\n",
       "      <th>High</th>\n",
       "      <th>Low</th>\n",
       "      <th>Close</th>\n",
       "      <th>Volume BTC</th>\n",
       "      <th>Volume USD</th>\n",
       "    </tr>\n",
       "  </thead>\n",
       "  <tbody>\n",
       "    <tr>\n",
       "      <td>1863</td>\n",
       "      <td>1.435622e+09</td>\n",
       "      <td>2015-06-30</td>\n",
       "      <td>BTCUSD</td>\n",
       "      <td>257.35</td>\n",
       "      <td>269.39</td>\n",
       "      <td>255.91</td>\n",
       "      <td>264.94</td>\n",
       "      <td>11626.26</td>\n",
       "      <td>3057480.55</td>\n",
       "    </tr>\n",
       "    <tr>\n",
       "      <td>1862</td>\n",
       "      <td>1.435709e+09</td>\n",
       "      <td>2015-07-01</td>\n",
       "      <td>BTCUSD</td>\n",
       "      <td>264.94</td>\n",
       "      <td>265.45</td>\n",
       "      <td>255.12</td>\n",
       "      <td>257.97</td>\n",
       "      <td>8150.38</td>\n",
       "      <td>2117515.44</td>\n",
       "    </tr>\n",
       "    <tr>\n",
       "      <td>1861</td>\n",
       "      <td>1.435795e+09</td>\n",
       "      <td>2015-07-02</td>\n",
       "      <td>BTCUSD</td>\n",
       "      <td>257.97</td>\n",
       "      <td>262.00</td>\n",
       "      <td>253.00</td>\n",
       "      <td>255.22</td>\n",
       "      <td>6288.44</td>\n",
       "      <td>1618502.64</td>\n",
       "    </tr>\n",
       "    <tr>\n",
       "      <td>1860</td>\n",
       "      <td>1.435882e+09</td>\n",
       "      <td>2015-07-03</td>\n",
       "      <td>BTCUSD</td>\n",
       "      <td>255.22</td>\n",
       "      <td>257.37</td>\n",
       "      <td>252.77</td>\n",
       "      <td>256.36</td>\n",
       "      <td>4850.58</td>\n",
       "      <td>1238894.58</td>\n",
       "    </tr>\n",
       "    <tr>\n",
       "      <td>1859</td>\n",
       "      <td>1.435968e+09</td>\n",
       "      <td>2015-07-04</td>\n",
       "      <td>BTCUSD</td>\n",
       "      <td>256.36</td>\n",
       "      <td>261.00</td>\n",
       "      <td>254.40</td>\n",
       "      <td>260.72</td>\n",
       "      <td>4119.09</td>\n",
       "      <td>1059726.90</td>\n",
       "    </tr>\n",
       "  </tbody>\n",
       "</table>\n",
       "</div>"
      ],
      "text/plain": [
       "      Unix Timestamp        Date  Symbol    Open    High     Low   Close  \\\n",
       "1863    1.435622e+09  2015-06-30  BTCUSD  257.35  269.39  255.91  264.94   \n",
       "1862    1.435709e+09  2015-07-01  BTCUSD  264.94  265.45  255.12  257.97   \n",
       "1861    1.435795e+09  2015-07-02  BTCUSD  257.97  262.00  253.00  255.22   \n",
       "1860    1.435882e+09  2015-07-03  BTCUSD  255.22  257.37  252.77  256.36   \n",
       "1859    1.435968e+09  2015-07-04  BTCUSD  256.36  261.00  254.40  260.72   \n",
       "\n",
       "      Volume BTC  Volume USD  \n",
       "1863    11626.26  3057480.55  \n",
       "1862     8150.38  2117515.44  \n",
       "1861     6288.44  1618502.64  \n",
       "1860     4850.58  1238894.58  \n",
       "1859     4119.09  1059726.90  "
      ]
     },
     "execution_count": 23,
     "metadata": {},
     "output_type": "execute_result"
    }
   ],
   "source": [
    "base.head()"
   ]
  },
  {
   "cell_type": "code",
   "execution_count": 15,
   "metadata": {},
   "outputs": [],
   "source": [
    "base['time'] = pd.to_datetime(base['time'], unit = 'ms')"
   ]
  },
  {
   "cell_type": "code",
   "execution_count": 12,
   "metadata": {},
   "outputs": [
    {
     "data": {
      "text/plain": [
       "[<matplotlib.lines.Line2D at 0x1c6c384df88>]"
      ]
     },
     "execution_count": 12,
     "metadata": {},
     "output_type": "execute_result"
    },
    {
     "data": {
      "image/png": "[encoded data removed]",
      "text/plain": [
       "<Figure size 432x288 with 1 Axes>"
      ]
     },
     "metadata": {
      "needs_background": "light"
     },
     "output_type": "display_data"
    }
   ],
   "source": [
    "plt.plot(base['Date'], base['Close'])"
   ]
  },
  {
   "cell_type": "code",
   "execution_count": 56,
   "metadata": {
    "jupyter": {
     "source_hidden": true
    }
   },
   "outputs": [],
   "source": [
    "base2 = pd.read_csv(\"C:/Users/dwsur/pirates.py/ethusd.csv\")"
   ]
  },
  {
   "cell_type": "code",
   "execution_count": 57,
   "metadata": {
    "jupyter": {
     "source_hidden": true
    }
   },
   "outputs": [],
   "source": [
    "base2['time'] = pd.to_datetime(base2['time'], unit = 'ms')"
   ]
  },
  {
   "cell_type": "code",
   "execution_count": 54,
   "metadata": {
    "collapsed": true,
    "jupyter": {
     "outputs_hidden": true,
     "source_hidden": true
    }
   },
   "outputs": [
    {
     "data": {
      "text/html": [
       "<div>\n",
       "<style scoped>\n",
       "    .dataframe tbody tr th:only-of-type {\n",
       "        vertical-align: middle;\n",
       "    }\n",
       "\n",
       "    .dataframe tbody tr th {\n",
       "        vertical-align: top;\n",
       "    }\n",
       "\n",
       "    .dataframe thead th {\n",
       "        text-align: right;\n",
       "    }\n",
       "</style>\n",
       "<table border=\"1\" class=\"dataframe\">\n",
       "  <thead>\n",
       "    <tr style=\"text-align: right;\">\n",
       "      <th></th>\n",
       "      <th>time</th>\n",
       "      <th>open</th>\n",
       "      <th>close</th>\n",
       "      <th>high</th>\n",
       "      <th>low</th>\n",
       "      <th>volume</th>\n",
       "    </tr>\n",
       "    <tr>\n",
       "      <th>time</th>\n",
       "      <th></th>\n",
       "      <th></th>\n",
       "      <th></th>\n",
       "      <th></th>\n",
       "      <th></th>\n",
       "      <th></th>\n",
       "    </tr>\n",
       "  </thead>\n",
       "  <tbody>\n",
       "    <tr>\n",
       "      <td>2016-03-09 16:04:00</td>\n",
       "      <td>2016-03-09 16:04:00</td>\n",
       "      <td>10.297000</td>\n",
       "      <td>10.097000</td>\n",
       "      <td>10.297000</td>\n",
       "      <td>10.097000</td>\n",
       "      <td>0.030000</td>\n",
       "    </tr>\n",
       "    <tr>\n",
       "      <td>2016-03-09 17:49:00</td>\n",
       "      <td>2016-03-09 17:49:00</td>\n",
       "      <td>11.197000</td>\n",
       "      <td>11.197000</td>\n",
       "      <td>11.197000</td>\n",
       "      <td>11.197000</td>\n",
       "      <td>0.010000</td>\n",
       "    </tr>\n",
       "    <tr>\n",
       "      <td>2016-03-09 18:56:00</td>\n",
       "      <td>2016-03-09 18:56:00</td>\n",
       "      <td>11.097000</td>\n",
       "      <td>11.097000</td>\n",
       "      <td>11.097000</td>\n",
       "      <td>11.097000</td>\n",
       "      <td>0.020000</td>\n",
       "    </tr>\n",
       "    <tr>\n",
       "      <td>2016-03-09 20:16:00</td>\n",
       "      <td>2016-03-09 20:16:00</td>\n",
       "      <td>11.195000</td>\n",
       "      <td>11.195000</td>\n",
       "      <td>11.195000</td>\n",
       "      <td>11.195000</td>\n",
       "      <td>0.010000</td>\n",
       "    </tr>\n",
       "    <tr>\n",
       "      <td>2016-03-09 20:21:00</td>\n",
       "      <td>2016-03-09 20:21:00</td>\n",
       "      <td>10.870000</td>\n",
       "      <td>10.870000</td>\n",
       "      <td>10.870000</td>\n",
       "      <td>10.870000</td>\n",
       "      <td>1.000000</td>\n",
       "    </tr>\n",
       "    <tr>\n",
       "      <td>...</td>\n",
       "      <td>...</td>\n",
       "      <td>...</td>\n",
       "      <td>...</td>\n",
       "      <td>...</td>\n",
       "      <td>...</td>\n",
       "      <td>...</td>\n",
       "    </tr>\n",
       "    <tr>\n",
       "      <td>2020-08-17 10:00:00</td>\n",
       "      <td>2020-08-17 10:00:00</td>\n",
       "      <td>426.720000</td>\n",
       "      <td>427.182048</td>\n",
       "      <td>427.182048</td>\n",
       "      <td>426.720000</td>\n",
       "      <td>90.933232</td>\n",
       "    </tr>\n",
       "    <tr>\n",
       "      <td>2020-08-17 10:01:00</td>\n",
       "      <td>2020-08-17 10:01:00</td>\n",
       "      <td>427.182048</td>\n",
       "      <td>427.550000</td>\n",
       "      <td>427.550000</td>\n",
       "      <td>427.182048</td>\n",
       "      <td>76.338756</td>\n",
       "    </tr>\n",
       "    <tr>\n",
       "      <td>2020-08-17 10:02:00</td>\n",
       "      <td>2020-08-17 10:02:00</td>\n",
       "      <td>427.407261</td>\n",
       "      <td>427.590000</td>\n",
       "      <td>427.790000</td>\n",
       "      <td>427.407261</td>\n",
       "      <td>41.819392</td>\n",
       "    </tr>\n",
       "    <tr>\n",
       "      <td>2020-08-17 10:03:00</td>\n",
       "      <td>2020-08-17 10:03:00</td>\n",
       "      <td>427.590000</td>\n",
       "      <td>427.680000</td>\n",
       "      <td>427.680000</td>\n",
       "      <td>427.590000</td>\n",
       "      <td>8.807377</td>\n",
       "    </tr>\n",
       "    <tr>\n",
       "      <td>2020-08-17 10:05:00</td>\n",
       "      <td>2020-08-17 10:05:00</td>\n",
       "      <td>427.680000</td>\n",
       "      <td>427.680000</td>\n",
       "      <td>427.680000</td>\n",
       "      <td>427.680000</td>\n",
       "      <td>0.770000</td>\n",
       "    </tr>\n",
       "  </tbody>\n",
       "</table>\n",
       "<p>1749115 rows × 6 columns</p>\n",
       "</div>"
      ],
      "text/plain": [
       "                                   time        open       close        high  \\\n",
       "time                                                                          \n",
       "2016-03-09 16:04:00 2016-03-09 16:04:00   10.297000   10.097000   10.297000   \n",
       "2016-03-09 17:49:00 2016-03-09 17:49:00   11.197000   11.197000   11.197000   \n",
       "2016-03-09 18:56:00 2016-03-09 18:56:00   11.097000   11.097000   11.097000   \n",
       "2016-03-09 20:16:00 2016-03-09 20:16:00   11.195000   11.195000   11.195000   \n",
       "2016-03-09 20:21:00 2016-03-09 20:21:00   10.870000   10.870000   10.870000   \n",
       "...                                 ...         ...         ...         ...   \n",
       "2020-08-17 10:00:00 2020-08-17 10:00:00  426.720000  427.182048  427.182048   \n",
       "2020-08-17 10:01:00 2020-08-17 10:01:00  427.182048  427.550000  427.550000   \n",
       "2020-08-17 10:02:00 2020-08-17 10:02:00  427.407261  427.590000  427.790000   \n",
       "2020-08-17 10:03:00 2020-08-17 10:03:00  427.590000  427.680000  427.680000   \n",
       "2020-08-17 10:05:00 2020-08-17 10:05:00  427.680000  427.680000  427.680000   \n",
       "\n",
       "                            low     volume  \n",
       "time                                        \n",
       "2016-03-09 16:04:00   10.097000   0.030000  \n",
       "2016-03-09 17:49:00   11.197000   0.010000  \n",
       "2016-03-09 18:56:00   11.097000   0.020000  \n",
       "2016-03-09 20:16:00   11.195000   0.010000  \n",
       "2016-03-09 20:21:00   10.870000   1.000000  \n",
       "...                         ...        ...  \n",
       "2020-08-17 10:00:00  426.720000  90.933232  \n",
       "2020-08-17 10:01:00  427.182048  76.338756  \n",
       "2020-08-17 10:02:00  427.407261  41.819392  \n",
       "2020-08-17 10:03:00  427.590000   8.807377  \n",
       "2020-08-17 10:05:00  427.680000   0.770000  \n",
       "\n",
       "[1749115 rows x 6 columns]"
      ]
     },
     "execution_count": 54,
     "metadata": {},
     "output_type": "execute_result"
    }
   ],
   "source": [
    "base2.set_index(pd.to_datetime(base2['time']))"
   ]
  },
  {
   "cell_type": "code",
   "execution_count": 42,
   "metadata": {
    "collapsed": true,
    "jupyter": {
     "outputs_hidden": true,
     "source_hidden": true
    }
   },
   "outputs": [
    {
     "data": {
      "text/plain": [
       "[<matplotlib.lines.Line2D at 0x234c207cfc8>]"
      ]
     },
     "execution_count": 42,
     "metadata": {},
     "output_type": "execute_result"
    },
    {
     "data": {
      "image/png": "[encoded data removed]",
      "text/plain": [
       "<Figure size 432x288 with 1 Axes>"
      ]
     },
     "metadata": {
      "needs_background": "light"
     },
     "output_type": "display_data"
    }
   ],
   "source": [
    "plt.plot(base2['time'], base2['close'])"
   ]
  },
  {
   "cell_type": "code",
   "execution_count": 55,
   "metadata": {
    "collapsed": true,
    "jupyter": {
     "outputs_hidden": true,
     "source_hidden": true
    }
   },
   "outputs": [
    {
     "ename": "TypeError",
     "evalue": "Only valid with DatetimeIndex, TimedeltaIndex or PeriodIndex, but got an instance of 'RangeIndex'",
     "output_type": "error",
     "traceback": [
      "\u001b[1;31m---------------------------------------------------------------------------\u001b[0m",
      "\u001b[1;31mTypeError\u001b[0m                                 Traceback (most recent call last)",
      "\u001b[1;32m<ipython-input-55-40582e1e7a63>\u001b[0m in \u001b[0;36m<module>\u001b[1;34m\u001b[0m\n\u001b[1;32m----> 1\u001b[1;33m \u001b[0mtest\u001b[0m \u001b[1;33m=\u001b[0m \u001b[0mbase2\u001b[0m\u001b[1;33m.\u001b[0m\u001b[0mloc\u001b[0m\u001b[1;33m[\u001b[0m\u001b[0mbase2\u001b[0m\u001b[1;33m.\u001b[0m\u001b[0mgroupby\u001b[0m\u001b[1;33m(\u001b[0m\u001b[0mpd\u001b[0m\u001b[1;33m.\u001b[0m\u001b[0mGrouper\u001b[0m\u001b[1;33m(\u001b[0m\u001b[0mfreq\u001b[0m\u001b[1;33m=\u001b[0m\u001b[1;34m'D'\u001b[0m\u001b[1;33m)\u001b[0m\u001b[1;33m)\u001b[0m\u001b[1;33m.\u001b[0m\u001b[0midxmax\u001b[0m\u001b[1;33m(\u001b[0m\u001b[1;33m)\u001b[0m\u001b[1;33m.\u001b[0m\u001b[0miloc\u001b[0m\u001b[1;33m[\u001b[0m\u001b[1;33m:\u001b[0m\u001b[1;33m,\u001b[0m \u001b[1;36m0\u001b[0m\u001b[1;33m]\u001b[0m\u001b[1;33m]\u001b[0m\u001b[1;33m\u001b[0m\u001b[1;33m\u001b[0m\u001b[0m\n\u001b[0m",
      "\u001b[1;32m~\\Anaconda3\\lib\\site-packages\\pandas\\core\\generic.py\u001b[0m in \u001b[0;36mgroupby\u001b[1;34m(self, by, axis, level, as_index, sort, group_keys, squeeze, observed, **kwargs)\u001b[0m\n\u001b[0;32m   7892\u001b[0m             \u001b[0msqueeze\u001b[0m\u001b[1;33m=\u001b[0m\u001b[0msqueeze\u001b[0m\u001b[1;33m,\u001b[0m\u001b[1;33m\u001b[0m\u001b[1;33m\u001b[0m\u001b[0m\n\u001b[0;32m   7893\u001b[0m             \u001b[0mobserved\u001b[0m\u001b[1;33m=\u001b[0m\u001b[0mobserved\u001b[0m\u001b[1;33m,\u001b[0m\u001b[1;33m\u001b[0m\u001b[1;33m\u001b[0m\u001b[0m\n\u001b[1;32m-> 7894\u001b[1;33m             \u001b[1;33m**\u001b[0m\u001b[0mkwargs\u001b[0m\u001b[1;33m\u001b[0m\u001b[1;33m\u001b[0m\u001b[0m\n\u001b[0m\u001b[0;32m   7895\u001b[0m         )\n\u001b[0;32m   7896\u001b[0m \u001b[1;33m\u001b[0m\u001b[0m\n",
      "\u001b[1;32m~\\Anaconda3\\lib\\site-packages\\pandas\\core\\groupby\\groupby.py\u001b[0m in \u001b[0;36mgroupby\u001b[1;34m(obj, by, **kwds)\u001b[0m\n\u001b[0;32m   2520\u001b[0m         \u001b[1;32mraise\u001b[0m \u001b[0mTypeError\u001b[0m\u001b[1;33m(\u001b[0m\u001b[1;34m\"invalid type: {}\"\u001b[0m\u001b[1;33m.\u001b[0m\u001b[0mformat\u001b[0m\u001b[1;33m(\u001b[0m\u001b[0mobj\u001b[0m\u001b[1;33m)\u001b[0m\u001b[1;33m)\u001b[0m\u001b[1;33m\u001b[0m\u001b[1;33m\u001b[0m\u001b[0m\n\u001b[0;32m   2521\u001b[0m \u001b[1;33m\u001b[0m\u001b[0m\n\u001b[1;32m-> 2522\u001b[1;33m     \u001b[1;32mreturn\u001b[0m \u001b[0mklass\u001b[0m\u001b[1;33m(\u001b[0m\u001b[0mobj\u001b[0m\u001b[1;33m,\u001b[0m \u001b[0mby\u001b[0m\u001b[1;33m,\u001b[0m \u001b[1;33m**\u001b[0m\u001b[0mkwds\u001b[0m\u001b[1;33m)\u001b[0m\u001b[1;33m\u001b[0m\u001b[1;33m\u001b[0m\u001b[0m\n\u001b[0m",
      "\u001b[1;32m~\\Anaconda3\\lib\\site-packages\\pandas\\core\\groupby\\groupby.py\u001b[0m in \u001b[0;36m__init__\u001b[1;34m(self, obj, keys, axis, level, grouper, exclusions, selection, as_index, sort, group_keys, squeeze, observed, **kwargs)\u001b[0m\n\u001b[0;32m    389\u001b[0m                 \u001b[0msort\u001b[0m\u001b[1;33m=\u001b[0m\u001b[0msort\u001b[0m\u001b[1;33m,\u001b[0m\u001b[1;33m\u001b[0m\u001b[1;33m\u001b[0m\u001b[0m\n\u001b[0;32m    390\u001b[0m                 \u001b[0mobserved\u001b[0m\u001b[1;33m=\u001b[0m\u001b[0mobserved\u001b[0m\u001b[1;33m,\u001b[0m\u001b[1;33m\u001b[0m\u001b[1;33m\u001b[0m\u001b[0m\n\u001b[1;32m--> 391\u001b[1;33m                 \u001b[0mmutated\u001b[0m\u001b[1;33m=\u001b[0m\u001b[0mself\u001b[0m\u001b[1;33m.\u001b[0m\u001b[0mmutated\u001b[0m\u001b[1;33m,\u001b[0m\u001b[1;33m\u001b[0m\u001b[1;33m\u001b[0m\u001b[0m\n\u001b[0m\u001b[0;32m    392\u001b[0m             )\n\u001b[0;32m    393\u001b[0m \u001b[1;33m\u001b[0m\u001b[0m\n",
      "\u001b[1;32m~\\Anaconda3\\lib\\site-packages\\pandas\\core\\groupby\\grouper.py\u001b[0m in \u001b[0;36m_get_grouper\u001b[1;34m(obj, key, axis, level, sort, observed, mutated, validate)\u001b[0m\n\u001b[0;32m    511\u001b[0m     \u001b[1;31m# a passed-in Grouper, directly convert\u001b[0m\u001b[1;33m\u001b[0m\u001b[1;33m\u001b[0m\u001b[1;33m\u001b[0m\u001b[0m\n\u001b[0;32m    512\u001b[0m     \u001b[1;32mif\u001b[0m \u001b[0misinstance\u001b[0m\u001b[1;33m(\u001b[0m\u001b[0mkey\u001b[0m\u001b[1;33m,\u001b[0m \u001b[0mGrouper\u001b[0m\u001b[1;33m)\u001b[0m\u001b[1;33m:\u001b[0m\u001b[1;33m\u001b[0m\u001b[1;33m\u001b[0m\u001b[0m\n\u001b[1;32m--> 513\u001b[1;33m         \u001b[0mbinner\u001b[0m\u001b[1;33m,\u001b[0m \u001b[0mgrouper\u001b[0m\u001b[1;33m,\u001b[0m \u001b[0mobj\u001b[0m \u001b[1;33m=\u001b[0m \u001b[0mkey\u001b[0m\u001b[1;33m.\u001b[0m\u001b[0m_get_grouper\u001b[0m\u001b[1;33m(\u001b[0m\u001b[0mobj\u001b[0m\u001b[1;33m,\u001b[0m \u001b[0mvalidate\u001b[0m\u001b[1;33m=\u001b[0m\u001b[1;32mFalse\u001b[0m\u001b[1;33m)\u001b[0m\u001b[1;33m\u001b[0m\u001b[1;33m\u001b[0m\u001b[0m\n\u001b[0m\u001b[0;32m    514\u001b[0m         \u001b[1;32mif\u001b[0m \u001b[0mkey\u001b[0m\u001b[1;33m.\u001b[0m\u001b[0mkey\u001b[0m \u001b[1;32mis\u001b[0m \u001b[1;32mNone\u001b[0m\u001b[1;33m:\u001b[0m\u001b[1;33m\u001b[0m\u001b[1;33m\u001b[0m\u001b[0m\n\u001b[0;32m    515\u001b[0m             \u001b[1;32mreturn\u001b[0m \u001b[0mgrouper\u001b[0m\u001b[1;33m,\u001b[0m \u001b[1;33m[\u001b[0m\u001b[1;33m]\u001b[0m\u001b[1;33m,\u001b[0m \u001b[0mobj\u001b[0m\u001b[1;33m\u001b[0m\u001b[1;33m\u001b[0m\u001b[0m\n",
      "\u001b[1;32m~\\Anaconda3\\lib\\site-packages\\pandas\\core\\resample.py\u001b[0m in \u001b[0;36m_get_grouper\u001b[1;34m(self, obj, validate)\u001b[0m\n\u001b[0;32m   1446\u001b[0m     \u001b[1;32mdef\u001b[0m \u001b[0m_get_grouper\u001b[0m\u001b[1;33m(\u001b[0m\u001b[0mself\u001b[0m\u001b[1;33m,\u001b[0m \u001b[0mobj\u001b[0m\u001b[1;33m,\u001b[0m \u001b[0mvalidate\u001b[0m\u001b[1;33m=\u001b[0m\u001b[1;32mTrue\u001b[0m\u001b[1;33m)\u001b[0m\u001b[1;33m:\u001b[0m\u001b[1;33m\u001b[0m\u001b[1;33m\u001b[0m\u001b[0m\n\u001b[0;32m   1447\u001b[0m         \u001b[1;31m# create the resampler and return our binner\u001b[0m\u001b[1;33m\u001b[0m\u001b[1;33m\u001b[0m\u001b[1;33m\u001b[0m\u001b[0m\n\u001b[1;32m-> 1448\u001b[1;33m         \u001b[0mr\u001b[0m \u001b[1;33m=\u001b[0m \u001b[0mself\u001b[0m\u001b[1;33m.\u001b[0m\u001b[0m_get_resampler\u001b[0m\u001b[1;33m(\u001b[0m\u001b[0mobj\u001b[0m\u001b[1;33m)\u001b[0m\u001b[1;33m\u001b[0m\u001b[1;33m\u001b[0m\u001b[0m\n\u001b[0m\u001b[0;32m   1449\u001b[0m         \u001b[0mr\u001b[0m\u001b[1;33m.\u001b[0m\u001b[0m_set_binner\u001b[0m\u001b[1;33m(\u001b[0m\u001b[1;33m)\u001b[0m\u001b[1;33m\u001b[0m\u001b[1;33m\u001b[0m\u001b[0m\n\u001b[0;32m   1450\u001b[0m         \u001b[1;32mreturn\u001b[0m \u001b[0mr\u001b[0m\u001b[1;33m.\u001b[0m\u001b[0mbinner\u001b[0m\u001b[1;33m,\u001b[0m \u001b[0mr\u001b[0m\u001b[1;33m.\u001b[0m\u001b[0mgrouper\u001b[0m\u001b[1;33m,\u001b[0m \u001b[0mr\u001b[0m\u001b[1;33m.\u001b[0m\u001b[0mobj\u001b[0m\u001b[1;33m\u001b[0m\u001b[1;33m\u001b[0m\u001b[0m\n",
      "\u001b[1;32m~\\Anaconda3\\lib\\site-packages\\pandas\\core\\resample.py\u001b[0m in \u001b[0;36m_get_resampler\u001b[1;34m(self, obj, kind)\u001b[0m\n\u001b[0;32m   1441\u001b[0m             \u001b[1;34m\"Only valid with DatetimeIndex, \"\u001b[0m\u001b[1;33m\u001b[0m\u001b[1;33m\u001b[0m\u001b[0m\n\u001b[0;32m   1442\u001b[0m             \u001b[1;34m\"TimedeltaIndex or PeriodIndex, \"\u001b[0m\u001b[1;33m\u001b[0m\u001b[1;33m\u001b[0m\u001b[0m\n\u001b[1;32m-> 1443\u001b[1;33m             \u001b[1;34m\"but got an instance of %r\"\u001b[0m \u001b[1;33m%\u001b[0m \u001b[0mtype\u001b[0m\u001b[1;33m(\u001b[0m\u001b[0max\u001b[0m\u001b[1;33m)\u001b[0m\u001b[1;33m.\u001b[0m\u001b[0m__name__\u001b[0m\u001b[1;33m\u001b[0m\u001b[1;33m\u001b[0m\u001b[0m\n\u001b[0m\u001b[0;32m   1444\u001b[0m         )\n\u001b[0;32m   1445\u001b[0m \u001b[1;33m\u001b[0m\u001b[0m\n",
      "\u001b[1;31mTypeError\u001b[0m: Only valid with DatetimeIndex, TimedeltaIndex or PeriodIndex, but got an instance of 'RangeIndex'"
     ]
    }
   ],
   "source": [
    "test = base2.loc[base2.groupby(pd.Grouper(freq='D')).idxmax().iloc[:, 0]]"
   ]
  },
  {
   "cell_type": "code",
   "execution_count": 13,
   "metadata": {},
   "outputs": [],
   "source": [
    "sandp = pd.read_csv(\"C:/Users/dwsur/pirates.py/sandp.csv\")"
   ]
  },
  {
   "cell_type": "code",
   "execution_count": 14,
   "metadata": {},
   "outputs": [
    {
     "data": {
      "text/html": [
       "<div>\n",
       "<style scoped>\n",
       "    .dataframe tbody tr th:only-of-type {\n",
       "        vertical-align: middle;\n",
       "    }\n",
       "\n",
       "    .dataframe tbody tr th {\n",
       "        vertical-align: top;\n",
       "    }\n",
       "\n",
       "    .dataframe thead th {\n",
       "        text-align: right;\n",
       "    }\n",
       "</style>\n",
       "<table border=\"1\" class=\"dataframe\">\n",
       "  <thead>\n",
       "    <tr style=\"text-align: right;\">\n",
       "      <th></th>\n",
       "      <th>Date</th>\n",
       "      <th>Open</th>\n",
       "      <th>High</th>\n",
       "      <th>Low</th>\n",
       "      <th>Close</th>\n",
       "      <th>Adj Close</th>\n",
       "      <th>Volume</th>\n",
       "    </tr>\n",
       "  </thead>\n",
       "  <tbody>\n",
       "    <tr>\n",
       "      <td>0</td>\n",
       "      <td>2015-08-17</td>\n",
       "      <td>2089.699951</td>\n",
       "      <td>2102.870117</td>\n",
       "      <td>2079.300049</td>\n",
       "      <td>2102.439941</td>\n",
       "      <td>2102.439941</td>\n",
       "      <td>2867690000</td>\n",
       "    </tr>\n",
       "    <tr>\n",
       "      <td>1</td>\n",
       "      <td>2015-08-18</td>\n",
       "      <td>2101.989990</td>\n",
       "      <td>2103.469971</td>\n",
       "      <td>2094.139893</td>\n",
       "      <td>2096.919922</td>\n",
       "      <td>2096.919922</td>\n",
       "      <td>2949990000</td>\n",
       "    </tr>\n",
       "    <tr>\n",
       "      <td>2</td>\n",
       "      <td>2015-08-19</td>\n",
       "      <td>2095.689941</td>\n",
       "      <td>2096.169922</td>\n",
       "      <td>2070.530029</td>\n",
       "      <td>2079.610107</td>\n",
       "      <td>2079.610107</td>\n",
       "      <td>3512920000</td>\n",
       "    </tr>\n",
       "    <tr>\n",
       "      <td>3</td>\n",
       "      <td>2015-08-20</td>\n",
       "      <td>2076.610107</td>\n",
       "      <td>2076.610107</td>\n",
       "      <td>2035.729980</td>\n",
       "      <td>2035.729980</td>\n",
       "      <td>2035.729980</td>\n",
       "      <td>3922470000</td>\n",
       "    </tr>\n",
       "    <tr>\n",
       "      <td>4</td>\n",
       "      <td>2015-08-21</td>\n",
       "      <td>2034.079956</td>\n",
       "      <td>2034.079956</td>\n",
       "      <td>1970.890015</td>\n",
       "      <td>1970.890015</td>\n",
       "      <td>1970.890015</td>\n",
       "      <td>5018240000</td>\n",
       "    </tr>\n",
       "  </tbody>\n",
       "</table>\n",
       "</div>"
      ],
      "text/plain": [
       "         Date         Open         High          Low        Close  \\\n",
       "0  2015-08-17  2089.699951  2102.870117  2079.300049  2102.439941   \n",
       "1  2015-08-18  2101.989990  2103.469971  2094.139893  2096.919922   \n",
       "2  2015-08-19  2095.689941  2096.169922  2070.530029  2079.610107   \n",
       "3  2015-08-20  2076.610107  2076.610107  2035.729980  2035.729980   \n",
       "4  2015-08-21  2034.079956  2034.079956  1970.890015  1970.890015   \n",
       "\n",
       "     Adj Close      Volume  \n",
       "0  2102.439941  2867690000  \n",
       "1  2096.919922  2949990000  \n",
       "2  2079.610107  3512920000  \n",
       "3  2035.729980  3922470000  \n",
       "4  1970.890015  5018240000  "
      ]
     },
     "execution_count": 14,
     "metadata": {},
     "output_type": "execute_result"
    }
   ],
   "source": [
    "sandp.head()"
   ]
  },
  {
   "cell_type": "code",
   "execution_count": 38,
   "metadata": {},
   "outputs": [],
   "source": [
    "teste =  pd.merge(base, sandp, on = 'Date')"
   ]
  },
  {
   "cell_type": "code",
   "execution_count": 39,
   "metadata": {},
   "outputs": [
    {
     "data": {
      "text/html": [
       "<div>\n",
       "<style scoped>\n",
       "    .dataframe tbody tr th:only-of-type {\n",
       "        vertical-align: middle;\n",
       "    }\n",
       "\n",
       "    .dataframe tbody tr th {\n",
       "        vertical-align: top;\n",
       "    }\n",
       "\n",
       "    .dataframe thead th {\n",
       "        text-align: right;\n",
       "    }\n",
       "</style>\n",
       "<table border=\"1\" class=\"dataframe\">\n",
       "  <thead>\n",
       "    <tr style=\"text-align: right;\">\n",
       "      <th></th>\n",
       "      <th>Unix Timestamp</th>\n",
       "      <th>Date</th>\n",
       "      <th>Symbol</th>\n",
       "      <th>Open_x</th>\n",
       "      <th>High_x</th>\n",
       "      <th>Low_x</th>\n",
       "      <th>Close_x</th>\n",
       "      <th>Volume BTC</th>\n",
       "      <th>Volume USD</th>\n",
       "      <th>Open_y</th>\n",
       "      <th>High_y</th>\n",
       "      <th>Low_y</th>\n",
       "      <th>Close_y</th>\n",
       "      <th>Adj Close</th>\n",
       "      <th>Volume</th>\n",
       "    </tr>\n",
       "  </thead>\n",
       "  <tbody>\n",
       "    <tr>\n",
       "      <td>0</td>\n",
       "      <td>1.439770e+09</td>\n",
       "      <td>2015-08-17</td>\n",
       "      <td>BTCUSD</td>\n",
       "      <td>259.19</td>\n",
       "      <td>261.57</td>\n",
       "      <td>255.58</td>\n",
       "      <td>258.49</td>\n",
       "      <td>6761.14</td>\n",
       "      <td>1748489.61</td>\n",
       "      <td>2089.699951</td>\n",
       "      <td>2102.870117</td>\n",
       "      <td>2079.300049</td>\n",
       "      <td>2102.439941</td>\n",
       "      <td>2102.439941</td>\n",
       "      <td>2867690000</td>\n",
       "    </tr>\n",
       "    <tr>\n",
       "      <td>1</td>\n",
       "      <td>1.439856e+09</td>\n",
       "      <td>2015-08-18</td>\n",
       "      <td>BTCUSD</td>\n",
       "      <td>258.49</td>\n",
       "      <td>258.64</td>\n",
       "      <td>245.67</td>\n",
       "      <td>247.43</td>\n",
       "      <td>8204.81</td>\n",
       "      <td>2080508.48</td>\n",
       "      <td>2101.989990</td>\n",
       "      <td>2103.469971</td>\n",
       "      <td>2094.139893</td>\n",
       "      <td>2096.919922</td>\n",
       "      <td>2096.919922</td>\n",
       "      <td>2949990000</td>\n",
       "    </tr>\n",
       "    <tr>\n",
       "      <td>2</td>\n",
       "      <td>1.439942e+09</td>\n",
       "      <td>2015-08-19</td>\n",
       "      <td>BTCUSD</td>\n",
       "      <td>247.43</td>\n",
       "      <td>247.43</td>\n",
       "      <td>200.00</td>\n",
       "      <td>227.84</td>\n",
       "      <td>16696.31</td>\n",
       "      <td>3851980.93</td>\n",
       "      <td>2095.689941</td>\n",
       "      <td>2096.169922</td>\n",
       "      <td>2070.530029</td>\n",
       "      <td>2079.610107</td>\n",
       "      <td>2079.610107</td>\n",
       "      <td>3512920000</td>\n",
       "    </tr>\n",
       "    <tr>\n",
       "      <td>3</td>\n",
       "      <td>1.440029e+09</td>\n",
       "      <td>2015-08-20</td>\n",
       "      <td>BTCUSD</td>\n",
       "      <td>227.84</td>\n",
       "      <td>238.20</td>\n",
       "      <td>226.58</td>\n",
       "      <td>235.49</td>\n",
       "      <td>8940.00</td>\n",
       "      <td>2088182.30</td>\n",
       "      <td>2076.610107</td>\n",
       "      <td>2076.610107</td>\n",
       "      <td>2035.729980</td>\n",
       "      <td>2035.729980</td>\n",
       "      <td>2035.729980</td>\n",
       "      <td>3922470000</td>\n",
       "    </tr>\n",
       "    <tr>\n",
       "      <td>4</td>\n",
       "      <td>1.440115e+09</td>\n",
       "      <td>2015-08-21</td>\n",
       "      <td>BTCUSD</td>\n",
       "      <td>235.49</td>\n",
       "      <td>236.99</td>\n",
       "      <td>231.37</td>\n",
       "      <td>233.71</td>\n",
       "      <td>7878.14</td>\n",
       "      <td>1847689.64</td>\n",
       "      <td>2034.079956</td>\n",
       "      <td>2034.079956</td>\n",
       "      <td>1970.890015</td>\n",
       "      <td>1970.890015</td>\n",
       "      <td>1970.890015</td>\n",
       "      <td>5018240000</td>\n",
       "    </tr>\n",
       "  </tbody>\n",
       "</table>\n",
       "</div>"
      ],
      "text/plain": [
       "   Unix Timestamp        Date  Symbol  Open_x  High_x   Low_x  Close_x  \\\n",
       "0    1.439770e+09  2015-08-17  BTCUSD  259.19  261.57  255.58   258.49   \n",
       "1    1.439856e+09  2015-08-18  BTCUSD  258.49  258.64  245.67   247.43   \n",
       "2    1.439942e+09  2015-08-19  BTCUSD  247.43  247.43  200.00   227.84   \n",
       "3    1.440029e+09  2015-08-20  BTCUSD  227.84  238.20  226.58   235.49   \n",
       "4    1.440115e+09  2015-08-21  BTCUSD  235.49  236.99  231.37   233.71   \n",
       "\n",
       "   Volume BTC  Volume USD       Open_y       High_y        Low_y      Close_y  \\\n",
       "0     6761.14  1748489.61  2089.699951  2102.870117  2079.300049  2102.439941   \n",
       "1     8204.81  2080508.48  2101.989990  2103.469971  2094.139893  2096.919922   \n",
       "2    16696.31  3851980.93  2095.689941  2096.169922  2070.530029  2079.610107   \n",
       "3     8940.00  2088182.30  2076.610107  2076.610107  2035.729980  2035.729980   \n",
       "4     7878.14  1847689.64  2034.079956  2034.079956  1970.890015  1970.890015   \n",
       "\n",
       "     Adj Close      Volume  \n",
       "0  2102.439941  2867690000  \n",
       "1  2096.919922  2949990000  \n",
       "2  2079.610107  3512920000  \n",
       "3  2035.729980  3922470000  \n",
       "4  1970.890015  5018240000  "
      ]
     },
     "execution_count": 39,
     "metadata": {},
     "output_type": "execute_result"
    }
   ],
   "source": [
    "teste.head()"
   ]
  },
  {
   "cell_type": "code",
   "execution_count": 41,
   "metadata": {},
   "outputs": [
    {
     "data": {
      "text/plain": [
       "<matplotlib.axes._subplots.AxesSubplot at 0x1c6c5e17388>"
      ]
     },
     "execution_count": 41,
     "metadata": {},
     "output_type": "execute_result"
    },
    {
     "data": {
      "image/png": "[encoded data removed]",
      "text/plain": [
       "<Figure size 432x288 with 1 Axes>"
      ]
     },
     "metadata": {
      "needs_background": "light"
     },
     "output_type": "display_data"
    }
   ],
   "source": [
    "teste.plot(x='Date', y= ['Close_x', 'Close_y'])"
   ]
  },
  {
   "cell_type": "code",
   "execution_count": 46,
   "metadata": {},
   "outputs": [
    {
     "data": {
      "text/plain": [
       "(0.8351910906770947, 0.0)"
      ]
     },
     "execution_count": 46,
     "metadata": {},
     "output_type": "execute_result"
    }
   ],
   "source": [
    "sc.stats.pearsonr(teste['Close_x'], teste['Close_y'])"
   ]
  }
 ],
 "metadata": {
  "kernelspec": {
   "display_name": "Python 3",
   "language": "python",
   "name": "python3"
  },
  "language_info": {
   "codemirror_mode": {
    "name": "ipython",
    "version": 3
   },
   "file_extension": ".py",
   "mimetype": "text/x-python",
   "name": "python",
   "nbconvert_exporter": "python",
   "pygments_lexer": "ipython3",
   "version": "3.7.4"
  }
 },
 "nbformat": 4,
 "nbformat_minor": 4
}
