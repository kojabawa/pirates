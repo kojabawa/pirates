{
 "cells": [
  {
   "cell_type": "code",
   "execution_count": 1,
   "metadata": {},
   "outputs": [],
   "source": [
    "import tweepy"
   ]
  },
  {
   "cell_type": "code",
   "execution_count": 2,
   "metadata": {},
   "outputs": [],
   "source": [
    "api_key = \"49sLhGttMLqGvCZYp3MwwZOmN\"\n",
    "api_secret = \"xNtjF0NThRyjkOf6xgnILM9LgdvOcm66BRZTAzlE3DTWtlqktI\"\n",
    "access_token = \"1295683640677015553-q7lHXq2aNTgxyCVTOuM4wnMfvIuqTS\"\n",
    "access_token_secret = \"GmQMZuiVTaBtda2D3yT5JVrB2KQIJ0kkrdOv7AtrzQ6xq\""
   ]
  },
  {
   "cell_type": "code",
   "execution_count": 3,
   "metadata": {},
   "outputs": [],
   "source": [
    "# Creating the authentication object\n",
    "auth = tweepy.OAuthHandler(api_key, api_secret)\n",
    "# Setting your access token and secret\n",
    "auth.set_access_token(access_token, access_token_secret)\n",
    "# Creating the API object while passing in auth information\n",
    "api = tweepy.API(auth) "
   ]
  },
  {
   "cell_type": "code",
   "execution_count": 6,
   "metadata": {},
   "outputs": [
    {
     "name": "stdout",
     "output_type": "stream",
     "text": [
      "@PedroCeclio ah\n",
      "steam link != steam play\n",
      "@PedroCeclio proton configurado direito?\n",
      "demoraram muito comprei essa \n",
      "https://t.co/FDKlPXhH2J https://t.co/elfQtEo2v0\n",
      "@liacouve sim, mas dá uns 2 anos aí pelo menos\n",
      "amigos recomendações de boas frigideiras até 200 prata (antiaderente de preferencia, não quero lidar com ferro fundido)\n",
      "@joao_berdeville tem um pacote meu em revisão tributária há 2 semanas......... a culpa não é dos correios, mas quer… https://t.co/QvI806rzMp\n",
      "hoje (18/08) 15h30 tem aula do impa hein\n",
      "\n",
      "https://t.co/ljrmnrUFk3\n",
      "@hoieu yu** mar***?\n",
      "@PedrooCava @g_exel fala na minha cara fascista\n",
      "@t6aguirre Ela tá certa. Dubladores brasileiros são os únicos que fazem referência ao Brasil.\n",
      "bom dia tuiter\n",
      "https://t.co/8CxiP5bbAl\n",
      "@attendezqu_il por incrivel que pareça nunca fui cancelado\n",
      "@_magalhaesvi @coproduto dscp\n",
      "@coproduto @_magalhaesvi ou quando o corpo não consegue sintetizar toda a testosterona e vira estrogênio\n",
      "@steshinokit arroz e frango\n",
      "se reclamar bate nele\n",
      "se você disse que seu email é vazio, cancelar o email e tentar de novo, vai\n",
      "\n",
      "que delícia de site\n",
      "Empresa cria uma plataforma pra cadastrar currículos com um chatbot\n",
      "Chatbot pede seu email\n",
      "diz que o formato xxxxx@… https://t.co/JgQKZAY9ka\n",
      "@steshinokit fala pra ele fazer a propria comida\n",
      "boa noite\n",
      "https://t.co/qkiDIEjlOd\n",
      "@coproduto @yasmincurzi @clareitao coe dá um processo brabo aí\n"
     ]
    }
   ],
   "source": [
    "name = \"mmdsza\"\n",
    "tweetCount = 20\n",
    "\n",
    "results = api.user_timeline(id=name, count=tweetCount)\n",
    "for tweet in results:\n",
    "    print (tweet.text)"
   ]
  },
  {
   "cell_type": "code",
   "execution_count": 9,
   "metadata": {},
   "outputs": [],
   "source": [
    "busca = api.search(q=\"bitcoin\", lang=\"en\")"
   ]
  },
  {
   "cell_type": "code",
   "execution_count": 10,
   "metadata": {},
   "outputs": [
    {
     "name": "stdout",
     "output_type": "stream",
     "text": [
      "RT @bitharington: It seems Bitcoin reaches the ATH price again a few months after a halving. That's when the real price pump starts. That's…\n",
      "@BITCOIN___FAQ @benrobinson97 Please ignore (BITCOIN___FAQ) as it is a FAKE account ⚠️\n",
      "@TwitterSupport \n",
      "\n",
      "You can co… https://t.co/VSBhrgLQYp\n",
      "RT @realwillmeade: I made my first crypto purchase ever this week\n",
      " $XRP Ripple \n",
      "I know very little about crypto but I believe a rising tide…\n",
      "@zioromolo Laugh. IOUs are not bitcoin.\n",
      "https://t.co/iF7G2UlhTv\n",
      "#Markets #News First Mover: Bitcoin Passes $12K, Dollar Worries Grow, OMG Jumps, Portnoy’s Orchid #Pump… https://t.co/7MUz5j0NtK\n",
      "##BitcoinPrice Will ‘Explode’ Says Trader if BTC Breaches $13,000 - #BitcoinFutures #Markets -… https://t.co/iWzsssAVJp\n",
      "Keep HODLing and stay safe from yourself.\n",
      "\n",
      "#Bitcoin raise to $12.2K and some are selling their altcoins just to get… https://t.co/eSpbsQ05dz\n",
      "RT @dke82: #bitcoin $BTC #ethereum $ETH #tether $USDT\n",
      "\n",
      "Opinion and observation on $Crypto prices &amp; what’s going on with #DeFi at the monent…\n",
      "RT @cryptounfolded: Our 3rd $100 #Bitcoin GIVEAWAY!\n",
      " \n",
      "- Follow @cryptounfolded \n",
      "- Retweet \n",
      "- Comment your favourite coin \n",
      "\n",
      "Winner will be a…\n",
      "RIP noobs running to buy #bitcoin right now..you will get slaughtered. When I start to think what's gonna happen I feel sick 🤢🤮\n",
      "RT @Bitcasinoio: Predict the #Bitcoin price for September 3rd and win 0.5 BTC! Top 10 gets prizes. \n",
      "\n",
      "Start predicting ➡ https://t.co/XMOoXf…\n",
      "RT @j0hnnyw00: Panic sellers are everywhere. They will never learn, never.\n",
      "We are saying this over and over every fucking day.\n",
      "Don't sell y…\n",
      "Trading forex/bitcoin investment?? 📱📱💸💵💴💶💷💰I can start helping you to earn lot of money,weekly and monthly and all… https://t.co/KYjATIiIMm\n",
      "RT @ChallengeClg: CHALLENGE-CLG is an Ethereum BlockChain based CryptoCurrency ,CLG can be converted to Bitcoin,Ethereum or other crypto us…\n"
     ]
    }
   ],
   "source": [
    "for tweet in busca:\n",
    "    print (tweet.text)"
   ]
  }
 ],
 "metadata": {
  "kernelspec": {
   "display_name": "Python 3",
   "language": "python",
   "name": "python3"
  },
  "language_info": {
   "codemirror_mode": {
    "name": "ipython",
    "version": 3
   },
   "file_extension": ".py",
   "mimetype": "text/x-python",
   "name": "python",
   "nbconvert_exporter": "python",
   "pygments_lexer": "ipython3",
   "version": "3.7.4"
  }
 },
 "nbformat": 4,
 "nbformat_minor": 4
}
