{
 "cells": [
  {
   "cell_type": "code",
   "execution_count": 3,
   "metadata": {},
   "outputs": [],
   "source": [
    "import pandas as pd\n",
    "from textblob import TextBlob\n",
    "import matplotlib.pyplot as plt"
   ]
  },
  {
   "cell_type": "code",
   "execution_count": 2,
   "metadata": {},
   "outputs": [
    {
     "ename": "NameError",
     "evalue": "name 'pd' is not defined",
     "output_type": "error",
     "traceback": [
      "\u001b[1;31m---------------------------------------------------------------------------\u001b[0m",
      "\u001b[1;31mNameError\u001b[0m                                 Traceback (most recent call last)",
      "\u001b[1;32m<ipython-input-2-ad815eb20714>\u001b[0m in \u001b[0;36m<module>\u001b[1;34m\u001b[0m\n\u001b[1;32m----> 1\u001b[1;33m \u001b[0mdado\u001b[0m \u001b[1;33m=\u001b[0m \u001b[0mpd\u001b[0m\u001b[1;33m.\u001b[0m\u001b[0mread_csv\u001b[0m\u001b[1;33m(\u001b[0m\u001b[1;34m'market_analysis_news.csv'\u001b[0m\u001b[1;33m)\u001b[0m\u001b[1;33m\u001b[0m\u001b[1;33m\u001b[0m\u001b[0m\n\u001b[0m",
      "\u001b[1;31mNameError\u001b[0m: name 'pd' is not defined"
     ]
    }
   ],
   "source": [
    "dado = pd.read_csv('market_analysis_news.csv')"
   ]
  },
  {
   "cell_type": "code",
   "execution_count": 9,
   "metadata": {},
   "outputs": [],
   "source": [
    "dado['TBPolarity'] = pd.Series(dtype='float')\n",
    "dado['TBSubjectivity'] = pd.Series(dtype='float')\n",
    "\n",
    "def textblob_pol(body):\n",
    "    \n",
    "    return TextBlob(body).sentiment.polarity\n",
    "\n",
    "def textblob_sub(body):\n",
    "    \n",
    "    return TextBlob(body).sentiment.subjectivity\n",
    "\n",
    "dado['TBPolarity'] = dado['Content'].apply(textblob_pol)\n",
    "\n",
    "dado['TBSubjectivity'] = dado['Content'].apply(textblob_sub)\n",
    "\n",
    "dado.to_pickle('noticias.pkl')"
   ]
  },
  {
   "cell_type": "code",
   "execution_count": 4,
   "metadata": {},
   "outputs": [],
   "source": [
    "news = pd.read_pickle('noticias.pkl')\n",
    "\n",
    "news['Date'] = pd.to_datetime(news['Date'])\n",
    "news=news.loc[(news['Date']> '2018-12-31') & (news['Date']< '2020-08-19')]\n",
    "\n",
    "news['weight'] = news['Views']/news.groupby('Date')['Views'].transform('sum')\n",
    "news['value']=news['TBPolarity']*news['weight']"
   ]
  },
  {
   "cell_type": "code",
   "execution_count": 5,
   "metadata": {},
   "outputs": [],
   "source": [
    "newsagg = news.set_index('Date').groupby(pd.Grouper(freq='D')).sum()\n",
    "newsagg.reset_index(inplace=True)"
   ]
  },
  {
   "cell_type": "code",
   "execution_count": 6,
   "metadata": {},
   "outputs": [
    {
     "name": "stderr",
     "output_type": "stream",
     "text": [
      "C:\\Users\\dwsur\\Anaconda3\\lib\\site-packages\\ipykernel_launcher.py:4: SettingWithCopyWarning: \n",
      "A value is trying to be set on a copy of a slice from a DataFrame.\n",
      "Try using .loc[row_indexer,col_indexer] = value instead\n",
      "\n",
      "See the caveats in the documentation: https://pandas.pydata.org/pandas-docs/stable/user_guide/indexing.html#returning-a-view-versus-a-copy\n",
      "  after removing the cwd from sys.path.\n"
     ]
    }
   ],
   "source": [
    "preço_btc = pd.read_csv('btcusd.csv', skiprows=1).sort_values(by='Date')\n",
    "\n",
    "preço2019 = preço_btc[(pd.to_datetime(preço_btc['Date']).dt.year >= 2019)]\n",
    "preço2019['Date']=pd.to_datetime(preço2019['Date'])"
   ]
  },
  {
   "cell_type": "code",
   "execution_count": 7,
   "metadata": {},
   "outputs": [],
   "source": [
    "import numpy as np"
   ]
  },
  {
   "cell_type": "code",
   "execution_count": 8,
   "metadata": {},
   "outputs": [],
   "source": [
    "def newscorr(dado1, dado2):                                          #função que avalia o melhor número de dias de lag\n",
    "    dummy=0                                                         #através da correlação entre os dados extraídos e os dados do btc\n",
    "    max = 0                                                         #dado 1 começa a partir da i+1-ésima, logo é o dado que queremos prever\n",
    "    for i in range(15):\n",
    "        if i == 7:\n",
    "            print(\"Lag de maior correlação:\", max, \" dias atrás\")\n",
    "            return \n",
    "        k=i+1\n",
    "        h=i-7\n",
    "        if i==0:\n",
    "            print(\"Correlação com notícias do dia anterior:\", np.corrcoef(dado1[k:h].astype('float64'), dado2[:-8].astype('float64'))[0][1])\n",
    "        else:\n",
    "            print(\"Correlação com notícias de \", 1+i, \" dias atrás:\", np.corrcoef(dado1[k:h].astype('float64'), dado2[:-8].astype('float64'))[0][1])\n",
    "        if np.corrcoef(dado1[k:h].astype('float64'), dado2[:-8].astype('float64'))[0][1]>dummy:\n",
    "            dummy = np.corrcoef(dado1[k:h].astype('float64'), dado2[:-8].astype('float64'))[0][1]\n",
    "            max=i+1"
   ]
  },
  {
   "cell_type": "code",
   "execution_count": 10,
   "metadata": {},
   "outputs": [],
   "source": [
    "newsagg['dummy'] = ''"
   ]
  },
  {
   "cell_type": "code",
   "execution_count": 11,
   "metadata": {},
   "outputs": [],
   "source": [
    "for i in range(587):\n",
    "    if newsagg['value'][i] != 0:\n",
    "        newsagg.loc[i, 'dummy'] = 0\n",
    "    elif (newsagg['value'][i] == 0) & (newsagg['dummy'][i-1] == 0):\n",
    "        newsagg.loc[i, 'dummy'] = 1\n",
    "    elif (newsagg['value'][i] == 0) & (newsagg['dummy'][i-1] == 1):\n",
    "        newsagg.loc[i, 'dummy'] = 2\n",
    "    elif (newsagg['value'][i] == 0) & (newsagg['dummy'][i-1] == 2):\n",
    "        newsagg.loc[i, 'dummy'] = 3\n",
    "    elif (newsagg['value'][i] == 0) & (newsagg['dummy'][i-1] == 3):    \n",
    "        newsagg.loc[i, 'dummy'] = 4\n",
    "    elif (newsagg['value'][i] == 0) & (newsagg['dummy'][i-1] == 4):\n",
    "        newsagg.loc[i, 'dummy'] = 5\n",
    "    elif (newsagg['value'][i] == 0) & (newsagg['dummy'][i-1] == 5):\n",
    "        newsagg.loc[i, 'dummy'] = 6\n",
    "    elif (newsagg['value'][i] == 0) & (newsagg['dummy'][i-1] == 6):\n",
    "        newsagg.loc[i, 'dummy'] = 7\n",
    "    elif (newsagg['value'][i] == 0) & (newsagg['dummy'][i-1] == 7):\n",
    "        newsagg.loc[i, 'dummy'] = 8\n",
    "    elif (newsagg['value'][i] == 0) & (newsagg['dummy'][i-1] == 8):\n",
    "        newsagg.loc[i, 'dummy'] = 9\n",
    "    elif (newsagg['value'][i] == 0) & (newsagg['dummy'][i-1] == 9):\n",
    "        newsagg.loc[i, 'dummy'] = 10\n",
    "    elif (newsagg['value'][i] == 0) & (newsagg['dummy'][i-1] == 10):\n",
    "        newsagg.loc[i, 'dummy'] = 11\n",
    "    elif (newsagg['value'][i] == 0) & (newsagg['dummy'][i-1] == 11):\n",
    "        newsagg.loc[i, 'dummy'] = 12\n",
    "    elif (newsagg['value'][i] == 0) & (newsagg['dummy'][i-1] == 12):\n",
    "        newsagg.loc[i, 'dummy'] = 13\n",
    "    else:\n",
    "        newsagg.loc[i, 'dummy'] = 'idk'"
   ]
  },
  {
   "cell_type": "code",
   "execution_count": 12,
   "metadata": {},
   "outputs": [],
   "source": [
    "newsagg['value'] = newsagg['value'].replace(to_replace=0, method='ffill')*1/(1+newsagg['dummy'])"
   ]
  },
  {
   "cell_type": "code",
   "execution_count": 13,
   "metadata": {},
   "outputs": [
    {
     "data": {
      "text/html": [
       "<div>\n",
       "<style scoped>\n",
       "    .dataframe tbody tr th:only-of-type {\n",
       "        vertical-align: middle;\n",
       "    }\n",
       "\n",
       "    .dataframe tbody tr th {\n",
       "        vertical-align: top;\n",
       "    }\n",
       "\n",
       "    .dataframe thead th {\n",
       "        text-align: right;\n",
       "    }\n",
       "</style>\n",
       "<table border=\"1\" class=\"dataframe\">\n",
       "  <thead>\n",
       "    <tr style=\"text-align: right;\">\n",
       "      <th></th>\n",
       "      <th>Date</th>\n",
       "      <th>Views</th>\n",
       "      <th>TBPolarity</th>\n",
       "      <th>TBSubjectivity</th>\n",
       "      <th>weight</th>\n",
       "      <th>value</th>\n",
       "      <th>dummy</th>\n",
       "    </tr>\n",
       "  </thead>\n",
       "  <tbody>\n",
       "    <tr>\n",
       "      <th>0</th>\n",
       "      <td>2019-01-09</td>\n",
       "      <td>8905</td>\n",
       "      <td>0.038483</td>\n",
       "      <td>0.391305</td>\n",
       "      <td>1.0</td>\n",
       "      <td>0.0384833</td>\n",
       "      <td>0</td>\n",
       "    </tr>\n",
       "    <tr>\n",
       "      <th>1</th>\n",
       "      <td>2019-01-10</td>\n",
       "      <td>0</td>\n",
       "      <td>0.000000</td>\n",
       "      <td>0.000000</td>\n",
       "      <td>0.0</td>\n",
       "      <td>0.0192417</td>\n",
       "      <td>1</td>\n",
       "    </tr>\n",
       "    <tr>\n",
       "      <th>2</th>\n",
       "      <td>2019-01-11</td>\n",
       "      <td>6069</td>\n",
       "      <td>0.043374</td>\n",
       "      <td>0.343965</td>\n",
       "      <td>1.0</td>\n",
       "      <td>0.0433737</td>\n",
       "      <td>0</td>\n",
       "    </tr>\n",
       "    <tr>\n",
       "      <th>3</th>\n",
       "      <td>2019-01-12</td>\n",
       "      <td>16526</td>\n",
       "      <td>0.008485</td>\n",
       "      <td>0.340677</td>\n",
       "      <td>1.0</td>\n",
       "      <td>0.00848515</td>\n",
       "      <td>0</td>\n",
       "    </tr>\n",
       "    <tr>\n",
       "      <th>4</th>\n",
       "      <td>2019-01-13</td>\n",
       "      <td>20333</td>\n",
       "      <td>0.037433</td>\n",
       "      <td>0.339174</td>\n",
       "      <td>1.0</td>\n",
       "      <td>0.0374332</td>\n",
       "      <td>0</td>\n",
       "    </tr>\n",
       "    <tr>\n",
       "      <th>...</th>\n",
       "      <td>...</td>\n",
       "      <td>...</td>\n",
       "      <td>...</td>\n",
       "      <td>...</td>\n",
       "      <td>...</td>\n",
       "      <td>...</td>\n",
       "      <td>...</td>\n",
       "    </tr>\n",
       "    <tr>\n",
       "      <th>582</th>\n",
       "      <td>2020-08-13</td>\n",
       "      <td>0</td>\n",
       "      <td>0.000000</td>\n",
       "      <td>0.000000</td>\n",
       "      <td>0.0</td>\n",
       "      <td>0.00462468</td>\n",
       "      <td>5</td>\n",
       "    </tr>\n",
       "    <tr>\n",
       "      <th>583</th>\n",
       "      <td>2020-08-14</td>\n",
       "      <td>0</td>\n",
       "      <td>0.000000</td>\n",
       "      <td>0.000000</td>\n",
       "      <td>0.0</td>\n",
       "      <td>0.00396401</td>\n",
       "      <td>6</td>\n",
       "    </tr>\n",
       "    <tr>\n",
       "      <th>584</th>\n",
       "      <td>2020-08-15</td>\n",
       "      <td>16768</td>\n",
       "      <td>0.139195</td>\n",
       "      <td>0.452787</td>\n",
       "      <td>1.0</td>\n",
       "      <td>0.139195</td>\n",
       "      <td>0</td>\n",
       "    </tr>\n",
       "    <tr>\n",
       "      <th>585</th>\n",
       "      <td>2020-08-16</td>\n",
       "      <td>21790</td>\n",
       "      <td>0.120838</td>\n",
       "      <td>0.446944</td>\n",
       "      <td>1.0</td>\n",
       "      <td>0.120838</td>\n",
       "      <td>0</td>\n",
       "    </tr>\n",
       "    <tr>\n",
       "      <th>586</th>\n",
       "      <td>2020-08-17</td>\n",
       "      <td>57768</td>\n",
       "      <td>0.172880</td>\n",
       "      <td>0.905228</td>\n",
       "      <td>1.0</td>\n",
       "      <td>0.0952036</td>\n",
       "      <td>0</td>\n",
       "    </tr>\n",
       "  </tbody>\n",
       "</table>\n",
       "<p>587 rows × 7 columns</p>\n",
       "</div>"
      ],
      "text/plain": [
       "          Date  Views  TBPolarity  TBSubjectivity  weight       value dummy\n",
       "0   2019-01-09   8905    0.038483        0.391305     1.0   0.0384833     0\n",
       "1   2019-01-10      0    0.000000        0.000000     0.0   0.0192417     1\n",
       "2   2019-01-11   6069    0.043374        0.343965     1.0   0.0433737     0\n",
       "3   2019-01-12  16526    0.008485        0.340677     1.0  0.00848515     0\n",
       "4   2019-01-13  20333    0.037433        0.339174     1.0   0.0374332     0\n",
       "..         ...    ...         ...             ...     ...         ...   ...\n",
       "582 2020-08-13      0    0.000000        0.000000     0.0  0.00462468     5\n",
       "583 2020-08-14      0    0.000000        0.000000     0.0  0.00396401     6\n",
       "584 2020-08-15  16768    0.139195        0.452787     1.0    0.139195     0\n",
       "585 2020-08-16  21790    0.120838        0.446944     1.0    0.120838     0\n",
       "586 2020-08-17  57768    0.172880        0.905228     1.0   0.0952036     0\n",
       "\n",
       "[587 rows x 7 columns]"
      ]
     },
     "execution_count": 13,
     "metadata": {},
     "output_type": "execute_result"
    }
   ],
   "source": [
    "newsagg"
   ]
  },
  {
   "cell_type": "code",
   "execution_count": 15,
   "metadata": {},
   "outputs": [],
   "source": [
    "def melhorMA(btc, dado):\n",
    "    max=0\n",
    "    value=0\n",
    "    for i in range(30):\n",
    "        lagged =  dado.rolling(window=i+1).mean().dropna()\n",
    "        if np.corrcoef(btc[i:].astype('float64'), lagged.astype('float64'))[0][1]>value:\n",
    "            value = np.corrcoef(btc[i:].astype('float64'), lagged.astype('float64'))[0][1]\n",
    "            max=i+1\n",
    "    print(max, value)\n",
    "    return"
   ]
  },
  {
   "cell_type": "code",
   "execution_count": 16,
   "metadata": {},
   "outputs": [],
   "source": [
    "corr = pd.merge(left=preço2019, left_on='Date',\n",
    "         right=newsagg, right_on='Date')"
   ]
  },
  {
   "cell_type": "code",
   "execution_count": 17,
   "metadata": {},
   "outputs": [
    {
     "name": "stdout",
     "output_type": "stream",
     "text": [
      "18 0.2769079779861431\n"
     ]
    }
   ],
   "source": [
    "melhorMA(corr['Close'], corr['value'])"
   ]
  },
  {
   "cell_type": "code",
   "execution_count": 18,
   "metadata": {},
   "outputs": [],
   "source": [
    "medias = pd.DataFrame()\n",
    "\n",
    "medias['MA18']=corr['value'].rolling(window=18).mean().dropna()\n",
    "medias['MA4'] = corr.loc[17:, 'value'].rolling(window=1).mean().dropna()\n",
    "\n",
    "medias = medias.set_index(corr.loc[17:, 'Date'])\n",
    "\n",
    "medias['posição'] = medias['MA4'] > medias['MA18']\n",
    "medias['anterior'] =  medias['posição'].shift(1)\n",
    "\n",
    "medias.dropna(inplace=True)\n",
    "\n",
    "medias['mudança'] = np.where(medias['posição'] == medias['anterior'], False, True)\n",
    "\n",
    "medias = medias.reset_index()\n",
    "\n",
    "medias['venda'] = np.where((medias['posição'] == False) & (medias['mudança'] == True), True, False)\n",
    "medias['compra'] = np.where((medias['posição'] == True) & (medias['mudança'] == True), True, False)"
   ]
  },
  {
   "cell_type": "code",
   "execution_count": 46,
   "metadata": {},
   "outputs": [],
   "source": [
    "def lucro(preços, decisao):\n",
    "    inicio = True\n",
    "    btc = 0\n",
    "    primeiro = False\n",
    "    caixa = 0\n",
    "    investimento = 0\n",
    "    valor = []\n",
    "    for i in range(np.shape(preços)[0]):\n",
    "        if (inicio == True) & (decisao.loc[i, 'compra'] == True):\n",
    "            inicio = False\n",
    "            btc = 1\n",
    "            primeiro = True\n",
    "            investimento = preços.loc[i+19, 'Open']\n",
    "        elif (inicio == False) & (decisao.loc[i, 'venda'] == True) & (primeiro == True):\n",
    "            btc = 0\n",
    "            primeiro = False\n",
    "            caixa = preços.loc[i+19, 'Close']\n",
    "        elif (inicio == False) & (decisao.loc[i, 'compra'] == True) & (primeiro == False):\n",
    "            btc = caixa/preços.loc[i+19, 'Open']\n",
    "            caixa = 0\n",
    "        elif (inicio == False) & (decisao.loc[i, 'venda'] == True) & (primeiro == False):\n",
    "            caixa = btc*preços.loc[i+19, 'Close']\n",
    "            btc = 0\n",
    "        valor.append(max(caixa, btc*preços.loc[i+18, 'Close']))\n",
    "    if caixa == 0:\n",
    "        caixa = btc*preços.loc[i+18, 'Close']\n",
    "        valor.append(max(caixa, btc*preços.loc[i+18, 'Close']))\n",
    "    return valor, 100*(caixa-investimento)/investimento, pd.Series(valor).var()"
   ]
  },
  {
   "cell_type": "code",
   "execution_count": 50,
   "metadata": {},
   "outputs": [
    {
     "data": {
      "text/plain": [
       "1946058.8999363855"
      ]
     },
     "execution_count": 50,
     "metadata": {},
     "output_type": "execute_result"
    }
   ],
   "source": [
    "lucro(corr[18:], medias)[2]"
   ]
  },
  {
   "cell_type": "code",
   "execution_count": 51,
   "metadata": {},
   "outputs": [
    {
     "data": {
      "text/plain": [
       "4807015.078184805"
      ]
     },
     "execution_count": 51,
     "metadata": {},
     "output_type": "execute_result"
    }
   ],
   "source": [
    "corr.loc[18:, 'Close'].var()"
   ]
  },
  {
   "cell_type": "code",
   "execution_count": 41,
   "metadata": {},
   "outputs": [
    {
     "data": {
      "text/plain": [
       "[<matplotlib.lines.Line2D at 0x2252a634848>]"
      ]
     },
     "execution_count": 41,
     "metadata": {},
     "output_type": "execute_result"
    },
    {
     "data": {
      "image/png": "[encoded data removed]",
      "text/plain": [
       "<Figure size 432x288 with 1 Axes>"
      ]
     },
     "metadata": {
      "needs_background": "light"
     },
     "output_type": "display_data"
    }
   ],
   "source": [
    "plt.plot(corr.loc[18:, 'Close'].reset_index())\n",
    "plt.plot(lucro(corr[18:], medias))"
   ]
  }
 ],
 "metadata": {
  "kernelspec": {
   "display_name": "Python 3",
   "language": "python",
   "name": "python3"
  },
  "language_info": {
   "codemirror_mode": {
    "name": "ipython",
    "version": 3
   },
   "file_extension": ".py",
   "mimetype": "text/x-python",
   "name": "python",
   "nbconvert_exporter": "python",
   "pygments_lexer": "ipython3",
   "version": "3.7.4"
  }
 },
 "nbformat": 4,
 "nbformat_minor": 4
}
