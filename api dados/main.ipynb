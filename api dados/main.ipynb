{
 "cells": [
  {
   "cell_type": "code",
   "execution_count": 7,
   "metadata": {},
   "outputs": [],
   "source": [
    "from psaw import PushshiftAPI\n",
    "import pandas as pd\n",
    "from textblob import TextBlob\n",
    "import matplotlib.pyplot as plt\n",
    "import numpy as np"
   ]
  },
  {
   "cell_type": "code",
   "execution_count": 2,
   "metadata": {
    "jupyter": {
     "source_hidden": true
    }
   },
   "outputs": [],
   "source": [
    "api = PushshiftAPI()      #api usada para puxar comentários do reddit"
   ]
  },
  {
   "cell_type": "code",
   "execution_count": null,
   "metadata": {
    "jupyter": {
     "source_hidden": true
    }
   },
   "outputs": [],
   "source": [
    "start_epoch=int(datetime(2019, 1, 1).timestamp())\n",
    "\n",
    "scraping = pd.DataFrame(api.search_comments(after=start_epoch,          #comentários a partir de 2019\n",
    "                        subreddit='bitcoin',                            #do subreddit /r/bitcoin\n",
    "                        filter=['body', 'date', 'score']                #com data, número de votos e corpo do texto\n",
    "                        ))\n",
    "scraping = scraping.drop(['created', 'd_'], axis = 1)\n",
    "\n",
    "scraping['created_utc'] = pd.to_datetime(scraping['created_utc'],unit='s') \n",
    "scraping = scraping.sort_values(by='created_utc')                       #organizados em data"
   ]
  },
  {
   "cell_type": "code",
   "execution_count": null,
   "metadata": {
    "jupyter": {
     "source_hidden": true
    }
   },
   "outputs": [],
   "source": [
    "scraping['TBPolarity'] = pd.Series(dtype='float')                       #criando colunas\n",
    "scraping['TBSubjectivity'] = pd.Series(dtype='float')\n",
    "\n",
    "def textblob_pol(body):\n",
    "    \n",
    "    return TextBlob(body).sentiment.polarity                            #definindo funções para trabalhar com apply\n",
    "\n",
    "def textblob_sub(body):\n",
    "    \n",
    "    return TextBlob(body).sentiment.subjectivity\n",
    "\n",
    "scraping['TBPolarity'] = scraping['body'].apply(textblob_pol)           #função de positividade do comentário\n",
    "\n",
    "scraping['TBSubjectivity'] = scraping['body'].apply(textblob_sub)       #subjetividade\n",
    "\n",
    "scraping.to_pickle('dados_bitcoin.pkl')                                 #gerando o arquivo utilizado no trabalho"
   ]
  },
  {
   "cell_type": "code",
   "execution_count": 8,
   "metadata": {},
   "outputs": [],
   "source": [
    "base = pd.read_pickle('dadoscorretos.pkl')                              #abrindo ele\n",
    "\n",
    "base['score']=base['score'].abs()                                       #tomando votos em módulo como indicação de importância (por hipótese)\n",
    "base['dia'] = pd.to_datetime(base['created_utc'].dt.date)               #organizando\n",
    "\n",
    "base['weight'] = base['score']/base.groupby('dia')['score'].transform('sum') #dando peso para comentários se baseando no total de votos do dia\n",
    "base['value']=base['TBPolarity']*base['weight']                         #valor que cada comentário tem para o sentimento geral do dia"
   ]
  },
  {
   "cell_type": "code",
   "execution_count": 11,
   "metadata": {},
   "outputs": [],
   "source": [
    "preço_btc = pd.read_csv('btcusd.csv', skiprows=1).sort_values(by='Date')   #dados do bitcoin extraídos do cryptodatadownload.com"
   ]
  },
  {
   "cell_type": "code",
   "execution_count": 14,
   "metadata": {},
   "outputs": [],
   "source": [
    "preço2019['Date']=pd.to_datetime(preço2019['Date'])                     #organizando\n",
    "preço2019 = preço2019.loc[preço2019['Date'].dt.year >= 2019] #extraindo dados a partir de 2019"
   ]
  },
  {
   "cell_type": "code",
   "execution_count": 15,
   "metadata": {},
   "outputs": [],
   "source": [
    "agg = base.set_index('created_utc').groupby(pd.Grouper(freq='D')).sum()"
   ]
  },
  {
   "cell_type": "code",
   "execution_count": 17,
   "metadata": {},
   "outputs": [],
   "source": [
    "reddcorr = pd.merge(left=preço2019, left_on='Date',                     #pegando dias onde temos ambos os dados\n",
    "         right=agg, right_on='created_utc')"
   ]
  },
  {
   "cell_type": "code",
   "execution_count": 18,
   "metadata": {},
   "outputs": [],
   "source": [
    "def commentcorr(dado1, dado2):                                          #função que avalia o melhor número de dias de lag\n",
    "    dummy=0                                                         #através da correlação entre os dados extraídos e os dados do btc\n",
    "    max = 0                                                         #dado 1 começa a partir da i+1-ésima, logo é o dado que queremos prever\n",
    "    for i in range(15):\n",
    "        if i == 7:\n",
    "            print(\"Lag de maior correlação:\", max, \" dias atrás\")\n",
    "            return \n",
    "        k=i+1\n",
    "        h=i-7\n",
    "        if i==0:\n",
    "            print(\"Correlação com comentários do dia anterior:\", np.corrcoef(dado1[k:h], dado2[:-8])[0][1])\n",
    "        else:\n",
    "            print(\"Correlação com comentários de \", 1+i, \" dias atrás:\", np.corrcoef(dado1[k:h], dado2[:-8])[0][1])\n",
    "        if np.corrcoef(dado1[k:h], dado2[:-8])[0][1]>dummy:\n",
    "            dummy = np.corrcoef(dado1[k:h], dado2[:-8])[0][1]\n",
    "            max=i+1"
   ]
  },
  {
   "cell_type": "code",
   "execution_count": 19,
   "metadata": {},
   "outputs": [
    {
     "name": "stdout",
     "output_type": "stream",
     "text": [
      "Correlação com comentários do dia anterior: 0.0368245830225779\n",
      "Correlação com comentários de  2  dias atrás: 0.03860449409260005\n",
      "Correlação com comentários de  3  dias atrás: 0.04205005267600763\n",
      "Correlação com comentários de  4  dias atrás: 0.03604325828316604\n",
      "Correlação com comentários de  5  dias atrás: 0.028584474005855818\n",
      "Correlação com comentários de  6  dias atrás: 0.030188268328582384\n",
      "Correlação com comentários de  7  dias atrás: 0.028792405064350494\n",
      "Lag de maior correlação: 3  dias atrás\n"
     ]
    }
   ],
   "source": [
    "commentcorr(reddcorr['Close'], reddcorr['value'])                                #aplicando a função à base de comentários do reddit"
   ]
  },
  {
   "cell_type": "code",
   "execution_count": 1,
   "metadata": {},
   "outputs": [],
   "source": [
    "#Para comentários, tomaremos comentários de 3 dias atrás para as previsões"
   ]
  },
  {
   "cell_type": "code",
   "execution_count": 178,
   "metadata": {
    "jupyter": {
     "source_hidden": true
    }
   },
   "outputs": [],
   "source": [
    "dado = pd.read_csv('market_analysis_news.csv')                       #notícias extraídas por scraping do site cointelegraph.com"
   ]
  },
  {
   "cell_type": "code",
   "execution_count": null,
   "metadata": {
    "jupyter": {
     "source_hidden": true
    }
   },
   "outputs": [],
   "source": [
    "dado['TBPolarity'] = pd.Series(dtype='float')\n",
    "dado['TBSubjectivity'] = pd.Series(dtype='float')\n",
    "\n",
    "def textblob_pol(body):\n",
    "    \n",
    "    return TextBlob(body).sentiment.polarity                         #aplicando o processo feito com os comentários do reddit\n",
    "\n",
    "def textblob_sub(body):\n",
    "    \n",
    "    return TextBlob(body).sentiment.subjectivity\n",
    "\n",
    "dado['TBPolarity'] = dado['Content'].apply(textblob_pol)\n",
    "\n",
    "dado['TBSubjectivity'] = dado['Content'].apply(textblob_sub)\n",
    "\n",
    "dado.to_pickle('noticias.pkl')"
   ]
  },
  {
   "cell_type": "code",
   "execution_count": 20,
   "metadata": {},
   "outputs": [],
   "source": [
    "news = pd.read_pickle('noticias.pkl')\n",
    "\n",
    "news['Date'] = pd.to_datetime(news['Date'])\n",
    "news=news.loc[(news['Date']> '2018-12-31') & (news['Date']< '2020-08-19')]     #mesma coisa     \n",
    "\n",
    "news['weight'] = news['Views']/news.groupby('Date')['Views'].transform('sum')\n",
    "news['value']=news['TBPolarity']*news['weight']"
   ]
  },
  {
   "cell_type": "code",
   "execution_count": 32,
   "metadata": {},
   "outputs": [],
   "source": [
    "newsagg = news.set_index('Date').groupby(pd.Grouper(freq='D')).sum()"
   ]
  },
  {
   "cell_type": "code",
   "execution_count": 33,
   "metadata": {},
   "outputs": [],
   "source": [
    "newsagg.reset_index(inplace=True)#tomando o índice original para uma operação a seguir, pode ser removido se trocarmos o for por outro método\n",
    "newsagg['dummy'] = ''             #apenas utilizado no for"
   ]
  },
  {
   "cell_type": "code",
   "execution_count": 34,
   "metadata": {},
   "outputs": [],
   "source": [
    "for i in range(587):                                                  #triste\n",
    "    if newsagg['value'][i] != 0:                                      #esse for é utilizado pra fazer o decay de notícias, assim não temos\n",
    "        newsagg.loc[i, 'dummy'] = 0                                   #dias com valor nulo de sentimento de notícias relacionadas a bitcoin.\n",
    "    elif (newsagg['value'][i] == 0) & (newsagg['dummy'][i-1] == 0):   #Basicamente, ele checa se o dia anterior teve notícias, e se não teve\n",
    "        newsagg.loc[i, 'dummy'] = 1                                   #ele vê quantos dias atrás houveram notícias através do dummy.\n",
    "    elif (newsagg['value'][i] == 0) & (newsagg['dummy'][i-1] == 1):   #Note que o método depende do índice, logo devemos tirar o índice de\n",
    "        newsagg.loc[i, 'dummy'] = 2                                   #data.\n",
    "    elif (newsagg['value'][i] == 0) & (newsagg['dummy'][i-1] == 2):   #Para alterar, basta encontrar outra maneira de saber quantos dias \n",
    "        newsagg.loc[i, 'dummy'] = 3                                   #atrás houve a última notícia de modo preciso, para poder operar\n",
    "    elif (newsagg['value'][i] == 0) & (newsagg['dummy'][i-1] == 3):   #o decaimento da importância do sentimento. \n",
    "        newsagg.loc[i, 'dummy'] = 4\n",
    "    elif (newsagg['value'][i] == 0) & (newsagg['dummy'][i-1] == 4):   #A lógica para o decaimento é a seguinte: consideramos que em um dia\n",
    "        newsagg.loc[i, 'dummy'] = 5                                   #sem notícias, a última notícia postada é a mais importante, descontada\n",
    "    elif (newsagg['value'][i] == 0) & (newsagg['dummy'][i-1] == 5):   #pelo tempo. Ao surgir uma nova, a anterior se torna irrelevante.\n",
    "        newsagg.loc[i, 'dummy'] = 6\n",
    "    elif (newsagg['value'][i] == 0) & (newsagg['dummy'][i-1] == 6):\n",
    "        newsagg.loc[i, 'dummy'] = 7\n",
    "    elif (newsagg['value'][i] == 0) & (newsagg['dummy'][i-1] == 7):\n",
    "        newsagg.loc[i, 'dummy'] = 8\n",
    "    elif (newsagg['value'][i] == 0) & (newsagg['dummy'][i-1] == 8):\n",
    "        newsagg.loc[i, 'dummy'] = 9\n",
    "    elif (newsagg['value'][i] == 0) & (newsagg['dummy'][i-1] == 9):\n",
    "        newsagg.loc[i, 'dummy'] = 10\n",
    "    elif (newsagg['value'][i] == 0) & (newsagg['dummy'][i-1] == 10):\n",
    "        newsagg.loc[i, 'dummy'] = 11\n",
    "    elif (newsagg['value'][i] == 0) & (newsagg['dummy'][i-1] == 11):\n",
    "        newsagg.loc[i, 'dummy'] = 12\n",
    "    elif (newsagg['value'][i] == 0) & (newsagg['dummy'][i-1] == 12):\n",
    "        newsagg.loc[i, 'dummy'] = 13\n",
    "    else:\n",
    "        newsagg.loc[i, 'dummy'] = 'idk'"
   ]
  },
  {
   "cell_type": "code",
   "execution_count": 35,
   "metadata": {},
   "outputs": [],
   "source": [
    "newsagg['value'] = newsagg['value'].replace(to_replace=0, method='ffill')*1/(1+newsagg['dummy'])\n",
    "#já sabendo o número de dias sem notícias, preenchemos os valores e descontamos com uma função inversa (arbitrária)"
   ]
  },
  {
   "cell_type": "code",
   "execution_count": 36,
   "metadata": {},
   "outputs": [],
   "source": [
    "corrnoticias = pd.merge(left=preço2019, left_on='Date',\n",
    "         right=newsagg, right_on='Date')"
   ]
  },
  {
   "cell_type": "code",
   "execution_count": 26,
   "metadata": {},
   "outputs": [],
   "source": [
    "def newscorr(dado1, dado2):                                          #função que avalia o melhor número de dias de lag\n",
    "    dummy=0                                                         #através da correlação entre os dados extraídos e os dados do btc\n",
    "    max = 0                                                         #dado 1 começa a partir da i+1-ésima, logo é o dado que queremos prever\n",
    "    for i in range(15):\n",
    "        if i == 7:\n",
    "            print(\"Lag de maior correlação:\", max, \" dias atrás\")\n",
    "            return \n",
    "        k=i+1\n",
    "        h=i-7\n",
    "        if i==0:\n",
    "            print(\"Correlação com notícias do dia anterior:\", np.corrcoef(dado1[k:h].astype('float64'), dado2[:-8].astype('float64'))[0][1])\n",
    "        else:\n",
    "            print(\"Correlação com notícias de \", 1+i, \" dias atrás:\", np.corrcoef(dado1[k:h].astype('float64'), dado2[:-8].astype('float64'))[0][1])\n",
    "        if np.corrcoef(dado1[k:h].astype('float64'), dado2[:-8].astype('float64'))[0][1]>dummy:\n",
    "            dummy = np.corrcoef(dado1[k:h].astype('float64'), dado2[:-8].astype('float64'))[0][1]\n",
    "            max=k"
   ]
  },
  {
   "cell_type": "code",
   "execution_count": 27,
   "metadata": {},
   "outputs": [
    {
     "name": "stdout",
     "output_type": "stream",
     "text": [
      "Correlação com notícias do dia anterior: 0.14962241229597759\n",
      "Correlação com notícias de  2  dias atrás: 0.1493440980771414\n",
      "Correlação com notícias de  3  dias atrás: 0.1486914603975128\n",
      "Correlação com notícias de  4  dias atrás: 0.14336066070143016\n",
      "Correlação com notícias de  5  dias atrás: 0.1404012193759254\n",
      "Correlação com notícias de  6  dias atrás: 0.12697821248377938\n",
      "Correlação com notícias de  7  dias atrás: 0.12336667440814586\n",
      "Lag de maior correlação: 1  dias atrás\n"
     ]
    }
   ],
   "source": [
    "newscorr(corrnoticias['Close'], corrnoticias['value'])"
   ]
  },
  {
   "cell_type": "code",
   "execution_count": 28,
   "metadata": {},
   "outputs": [],
   "source": [
    "#Para as notícias, tomaremos então lag do dia anterior"
   ]
  },
  {
   "cell_type": "code",
   "execution_count": 29,
   "metadata": {},
   "outputs": [],
   "source": [
    "#introduzindo agora média móvel para tornar as previsões mais suaves."
   ]
  },
  {
   "cell_type": "code",
   "execution_count": 30,
   "metadata": {},
   "outputs": [],
   "source": [
    "def melhorMA(btc, dado):\n",
    "    max=0\n",
    "    value=0\n",
    "    for i in range(200):\n",
    "        lagged =  dado.rolling(window=i+1).mean().dropna()\n",
    "        if np.corrcoef(btc[i:].astype('float64'), lagged.astype('float64'))[0][1]>value:\n",
    "            value = np.corrcoef(btc[i:].astype('float64'), lagged.astype('float64'))[0][1]\n",
    "            max=i+1\n",
    "    print(max, value)\n",
    "    return"
   ]
  },
  {
   "cell_type": "code",
   "execution_count": 37,
   "metadata": {},
   "outputs": [
    {
     "name": "stdout",
     "output_type": "stream",
     "text": [
      "18 0.2769079779861431\n"
     ]
    }
   ],
   "source": [
    "melhorMA(corrnoticias['Close'], corrnoticias['value'])"
   ]
  },
  {
   "cell_type": "code",
   "execution_count": 40,
   "metadata": {},
   "outputs": [
    {
     "data": {
      "text/plain": [
       "[<matplotlib.lines.Line2D at 0x21eb4f94fc8>]"
      ]
     },
     "execution_count": 40,
     "metadata": {},
     "output_type": "execute_result"
    },
    {
     "data": {
      "image/png": "[encoded data removed]",
      "text/plain": [
       "<Figure size 432x288 with 1 Axes>"
      ]
     },
     "metadata": {
      "needs_background": "light"
     },
     "output_type": "display_data"
    }
   ],
   "source": [
    "plt.plot(corrnoticias['value'].rolling(window=18).mean().dropna())"
   ]
  },
  {
   "cell_type": "code",
   "execution_count": null,
   "metadata": {},
   "outputs": [],
   "source": []
  }
 ],
 "metadata": {
  "kernelspec": {
   "display_name": "Python 3",
   "language": "python",
   "name": "python3"
  },
  "language_info": {
   "codemirror_mode": {
    "name": "ipython",
    "version": 3
   },
   "file_extension": ".py",
   "mimetype": "text/x-python",
   "name": "python",
   "nbconvert_exporter": "python",
   "pygments_lexer": "ipython3",
   "version": "3.7.4"
  }
 },
 "nbformat": 4,
 "nbformat_minor": 4
}
