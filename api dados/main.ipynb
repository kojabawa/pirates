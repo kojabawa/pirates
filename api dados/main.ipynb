{
 "cells": [
  {
   "cell_type": "code",
   "execution_count": 112,
   "metadata": {},
   "outputs": [],
   "source": [
    "from psaw import PushshiftAPI\n",
    "import pandas as pd\n",
    "from textblob import TextBlob\n",
    "import matplotlib.pyplot as plt\n",
    "import numpy as np\n",
    "from pandas.tseries.offsets import MonthEnd\n",
    "\n",
    "import seaborn as sns"
   ]
  },
  {
   "cell_type": "code",
   "execution_count": 2,
   "metadata": {},
   "outputs": [],
   "source": [
    "api = PushshiftAPI()      #api usada para puxar comentários do reddit"
   ]
  },
  {
   "cell_type": "code",
   "execution_count": null,
   "metadata": {},
   "outputs": [],
   "source": [
    "start_epoch=int(datetime(2019, 1, 1).timestamp())\n",
    "\n",
    "scraping = pd.DataFrame(api.search_comments(after=start_epoch,          #comentários a partir de 2019\n",
    "                        subreddit='bitcoin',                            #do subreddit /r/bitcoin\n",
    "                        filter=['body', 'date', 'score']                #com data, número de votos e corpo do texto\n",
    "                        ))\n",
    "scraping = scraping.drop(['created', 'd_'], axis = 1)\n",
    "\n",
    "scraping['created_utc'] = pd.to_datetime(scraping['created_utc'],unit='s') \n",
    "scraping = scraping.sort_values(by='created_utc')                       #organizados em data"
   ]
  },
  {
   "cell_type": "code",
   "execution_count": null,
   "metadata": {},
   "outputs": [],
   "source": [
    "scraping['TBPolarity'] = pd.Series(dtype='float')                       #criando colunas\n",
    "scraping['TBSubjectivity'] = pd.Series(dtype='float')\n",
    "\n",
    "def textblob_pol(body):\n",
    "    \n",
    "    return TextBlob(body).sentiment.polarity                            #definindo funções para trabalhar com apply\n",
    "\n",
    "def textblob_sub(body):\n",
    "    \n",
    "    return TextBlob(body).sentiment.subjectivity\n",
    "\n",
    "scraping['TBPolarity'] = scraping['body'].apply(textblob_pol)           #função de positividade do comentário\n",
    "\n",
    "scraping['TBSubjectivity'] = scraping['body'].apply(textblob_sub)       #subjetividade\n",
    "\n",
    "scraping.to_pickle('dados_bitcoin.pkl')                                 #gerando o arquivo utilizado no trabalho"
   ]
  },
  {
   "cell_type": "code",
   "execution_count": 3,
   "metadata": {},
   "outputs": [],
   "source": [
    "base = pd.read_pickle('dadoscorretos.pkl')                              #abrindo ele\n",
    "\n",
    "base['score']=base['score'].abs()                                       #tomando votos em módulo como indicação de importância (por hipótese)\n",
    "base['dia'] = pd.to_datetime(base['created_utc'].dt.date)               #organizando\n",
    "\n",
    "base['weight'] = base['score']/base.groupby('dia')['score'].transform('sum') #dando peso para comentários se baseando no total de votos do dia\n",
    "base['value']=base['TBPolarity']*base['weight']                         #valor que cada comentário tem para o sentimento geral do dia\n",
    "base['dt_month_year'] = base['created_utc'].dt.to_period('M')"
   ]
  },
  {
   "cell_type": "code",
   "execution_count": 73,
   "metadata": {},
   "outputs": [
    {
     "data": {
      "text/html": [
       "<div>\n",
       "<style scoped>\n",
       "    .dataframe tbody tr th:only-of-type {\n",
       "        vertical-align: middle;\n",
       "    }\n",
       "\n",
       "    .dataframe tbody tr th {\n",
       "        vertical-align: top;\n",
       "    }\n",
       "\n",
       "    .dataframe thead th {\n",
       "        text-align: right;\n",
       "    }\n",
       "</style>\n",
       "<table border=\"1\" class=\"dataframe\">\n",
       "  <thead>\n",
       "    <tr style=\"text-align: right;\">\n",
       "      <th></th>\n",
       "      <th>Unix Timestamp</th>\n",
       "      <th>Date</th>\n",
       "      <th>Symbol</th>\n",
       "      <th>Open</th>\n",
       "      <th>High</th>\n",
       "      <th>Low</th>\n",
       "      <th>Close</th>\n",
       "      <th>Volume BTC</th>\n",
       "      <th>Volume USD</th>\n",
       "      <th>month_end</th>\n",
       "      <th>month_end_bool</th>\n",
       "      <th>dt_month_year</th>\n",
       "    </tr>\n",
       "  </thead>\n",
       "  <tbody>\n",
       "    <tr>\n",
       "      <th>582</th>\n",
       "      <td>1.546301e+09</td>\n",
       "      <td>2019-01-01</td>\n",
       "      <td>BTCUSD</td>\n",
       "      <td>3691.86</td>\n",
       "      <td>3841.17</td>\n",
       "      <td>3651.02</td>\n",
       "      <td>3826.09</td>\n",
       "      <td>10364.91</td>\n",
       "      <td>3.846253e+07</td>\n",
       "      <td>2019-01-31</td>\n",
       "      <td>0</td>\n",
       "      <td>2019-01</td>\n",
       "    </tr>\n",
       "    <tr>\n",
       "      <th>581</th>\n",
       "      <td>1.546387e+09</td>\n",
       "      <td>2019-01-02</td>\n",
       "      <td>BTCUSD</td>\n",
       "      <td>3826.09</td>\n",
       "      <td>3916.57</td>\n",
       "      <td>3770.07</td>\n",
       "      <td>3890.79</td>\n",
       "      <td>9536.46</td>\n",
       "      <td>3.659365e+07</td>\n",
       "      <td>2019-01-31</td>\n",
       "      <td>0</td>\n",
       "      <td>2019-01</td>\n",
       "    </tr>\n",
       "    <tr>\n",
       "      <th>580</th>\n",
       "      <td>1.546474e+09</td>\n",
       "      <td>2019-01-03</td>\n",
       "      <td>BTCUSD</td>\n",
       "      <td>3890.79</td>\n",
       "      <td>3893.80</td>\n",
       "      <td>3758.07</td>\n",
       "      <td>3787.57</td>\n",
       "      <td>8715.63</td>\n",
       "      <td>3.335490e+07</td>\n",
       "      <td>2019-01-31</td>\n",
       "      <td>0</td>\n",
       "      <td>2019-01</td>\n",
       "    </tr>\n",
       "    <tr>\n",
       "      <th>579</th>\n",
       "      <td>1.546560e+09</td>\n",
       "      <td>2019-01-04</td>\n",
       "      <td>BTCUSD</td>\n",
       "      <td>3787.57</td>\n",
       "      <td>3849.00</td>\n",
       "      <td>3730.00</td>\n",
       "      <td>3820.25</td>\n",
       "      <td>8951.89</td>\n",
       "      <td>3.388354e+07</td>\n",
       "      <td>2019-01-31</td>\n",
       "      <td>0</td>\n",
       "      <td>2019-01</td>\n",
       "    </tr>\n",
       "    <tr>\n",
       "      <th>578</th>\n",
       "      <td>1.546646e+09</td>\n",
       "      <td>2019-01-05</td>\n",
       "      <td>BTCUSD</td>\n",
       "      <td>3820.25</td>\n",
       "      <td>3874.12</td>\n",
       "      <td>3775.00</td>\n",
       "      <td>3798.62</td>\n",
       "      <td>6205.09</td>\n",
       "      <td>2.378895e+07</td>\n",
       "      <td>2019-01-31</td>\n",
       "      <td>0</td>\n",
       "      <td>2019-01</td>\n",
       "    </tr>\n",
       "    <tr>\n",
       "      <th>...</th>\n",
       "      <td>...</td>\n",
       "      <td>...</td>\n",
       "      <td>...</td>\n",
       "      <td>...</td>\n",
       "      <td>...</td>\n",
       "      <td>...</td>\n",
       "      <td>...</td>\n",
       "      <td>...</td>\n",
       "      <td>...</td>\n",
       "      <td>...</td>\n",
       "      <td>...</td>\n",
       "      <td>...</td>\n",
       "    </tr>\n",
       "    <tr>\n",
       "      <th>4</th>\n",
       "      <td>1.597277e+09</td>\n",
       "      <td>2020-08-13</td>\n",
       "      <td>BTCUSD</td>\n",
       "      <td>11566.45</td>\n",
       "      <td>11802.09</td>\n",
       "      <td>11274.14</td>\n",
       "      <td>11795.95</td>\n",
       "      <td>15369.25</td>\n",
       "      <td>1.777590e+08</td>\n",
       "      <td>2020-08-31</td>\n",
       "      <td>0</td>\n",
       "      <td>2020-08</td>\n",
       "    </tr>\n",
       "    <tr>\n",
       "      <th>3</th>\n",
       "      <td>1.597363e+09</td>\n",
       "      <td>2020-08-14</td>\n",
       "      <td>BTCUSD</td>\n",
       "      <td>11795.95</td>\n",
       "      <td>11865.97</td>\n",
       "      <td>11651.24</td>\n",
       "      <td>11779.00</td>\n",
       "      <td>13797.44</td>\n",
       "      <td>1.622473e+08</td>\n",
       "      <td>2020-08-31</td>\n",
       "      <td>0</td>\n",
       "      <td>2020-08</td>\n",
       "    </tr>\n",
       "    <tr>\n",
       "      <th>2</th>\n",
       "      <td>1.597450e+09</td>\n",
       "      <td>2020-08-15</td>\n",
       "      <td>BTCUSD</td>\n",
       "      <td>11779.00</td>\n",
       "      <td>11989.98</td>\n",
       "      <td>11688.00</td>\n",
       "      <td>11859.24</td>\n",
       "      <td>12566.34</td>\n",
       "      <td>1.492883e+08</td>\n",
       "      <td>2020-08-31</td>\n",
       "      <td>0</td>\n",
       "      <td>2020-08</td>\n",
       "    </tr>\n",
       "    <tr>\n",
       "      <th>1</th>\n",
       "      <td>1.597536e+09</td>\n",
       "      <td>2020-08-16</td>\n",
       "      <td>BTCUSD</td>\n",
       "      <td>11859.24</td>\n",
       "      <td>11940.00</td>\n",
       "      <td>11686.53</td>\n",
       "      <td>11918.84</td>\n",
       "      <td>8911.33</td>\n",
       "      <td>1.055127e+08</td>\n",
       "      <td>2020-08-31</td>\n",
       "      <td>0</td>\n",
       "      <td>2020-08</td>\n",
       "    </tr>\n",
       "    <tr>\n",
       "      <th>0</th>\n",
       "      <td>1.597622e+09</td>\n",
       "      <td>2020-08-17</td>\n",
       "      <td>BTCUSD</td>\n",
       "      <td>11918.84</td>\n",
       "      <td>11940.00</td>\n",
       "      <td>11775.00</td>\n",
       "      <td>11812.11</td>\n",
       "      <td>2245.98</td>\n",
       "      <td>2.658520e+07</td>\n",
       "      <td>2020-08-31</td>\n",
       "      <td>0</td>\n",
       "      <td>2020-08</td>\n",
       "    </tr>\n",
       "  </tbody>\n",
       "</table>\n",
       "<p>583 rows × 12 columns</p>\n",
       "</div>"
      ],
      "text/plain": [
       "     Unix Timestamp       Date  Symbol      Open      High       Low  \\\n",
       "582    1.546301e+09 2019-01-01  BTCUSD   3691.86   3841.17   3651.02   \n",
       "581    1.546387e+09 2019-01-02  BTCUSD   3826.09   3916.57   3770.07   \n",
       "580    1.546474e+09 2019-01-03  BTCUSD   3890.79   3893.80   3758.07   \n",
       "579    1.546560e+09 2019-01-04  BTCUSD   3787.57   3849.00   3730.00   \n",
       "578    1.546646e+09 2019-01-05  BTCUSD   3820.25   3874.12   3775.00   \n",
       "..              ...        ...     ...       ...       ...       ...   \n",
       "4      1.597277e+09 2020-08-13  BTCUSD  11566.45  11802.09  11274.14   \n",
       "3      1.597363e+09 2020-08-14  BTCUSD  11795.95  11865.97  11651.24   \n",
       "2      1.597450e+09 2020-08-15  BTCUSD  11779.00  11989.98  11688.00   \n",
       "1      1.597536e+09 2020-08-16  BTCUSD  11859.24  11940.00  11686.53   \n",
       "0      1.597622e+09 2020-08-17  BTCUSD  11918.84  11940.00  11775.00   \n",
       "\n",
       "        Close  Volume BTC    Volume USD  month_end  month_end_bool  \\\n",
       "582   3826.09    10364.91  3.846253e+07 2019-01-31               0   \n",
       "581   3890.79     9536.46  3.659365e+07 2019-01-31               0   \n",
       "580   3787.57     8715.63  3.335490e+07 2019-01-31               0   \n",
       "579   3820.25     8951.89  3.388354e+07 2019-01-31               0   \n",
       "578   3798.62     6205.09  2.378895e+07 2019-01-31               0   \n",
       "..        ...         ...           ...        ...             ...   \n",
       "4    11795.95    15369.25  1.777590e+08 2020-08-31               0   \n",
       "3    11779.00    13797.44  1.622473e+08 2020-08-31               0   \n",
       "2    11859.24    12566.34  1.492883e+08 2020-08-31               0   \n",
       "1    11918.84     8911.33  1.055127e+08 2020-08-31               0   \n",
       "0    11812.11     2245.98  2.658520e+07 2020-08-31               0   \n",
       "\n",
       "    dt_month_year  \n",
       "582       2019-01  \n",
       "581       2019-01  \n",
       "580       2019-01  \n",
       "579       2019-01  \n",
       "578       2019-01  \n",
       "..            ...  \n",
       "4         2020-08  \n",
       "3         2020-08  \n",
       "2         2020-08  \n",
       "1         2020-08  \n",
       "0         2020-08  \n",
       "\n",
       "[583 rows x 12 columns]"
      ]
     },
     "execution_count": 73,
     "metadata": {},
     "output_type": "execute_result"
    }
   ],
   "source": [
    "preco_btc = pd.read_csv('btcusd.csv', skiprows=1).sort_values(by='Date')   #dados do bitcoin extraídos do cryptodatadownload.com\n",
    "\n",
    "preco_btc['Date'] = pd.to_datetime(preco_btc['Date'], infer_datetime_format=True)\n",
    "\n",
    "preco_btc['month_end'] = pd.to_datetime(preco_btc['Date'], format=\"%Y%m\") + MonthEnd(0)\n",
    "\n",
    "preco_btc['month_end_bool'] = (preco_btc['month_end'] == preco_btc['Date']).astype(int) #boolean para pegar o ultimo dia do mes\n",
    "\n",
    "preco_btc['dt_month_year'] = preco_btc['Date'].dt.to_period('M')\n",
    "\n",
    "preco2019 = preco_btc[preco_btc['Date'] >= '2019']\n",
    "preco2019"
   ]
  },
  {
   "cell_type": "code",
   "execution_count": 115,
   "metadata": {},
   "outputs": [],
   "source": [
    "agg = base.set_index('created_utc').groupby(pd.Grouper(freq='D')).sum()"
   ]
  },
  {
   "cell_type": "code",
   "execution_count": 116,
   "metadata": {},
   "outputs": [],
   "source": [
    "base_monthly = base.groupby('dt_month_year', as_index=False).sum()[['dt_month_year', 'value']]"
   ]
  },
  {
   "cell_type": "code",
   "execution_count": 117,
   "metadata": {},
   "outputs": [],
   "source": [
    "reddcorr = pd.merge(left=preco2019, left_on='Date',                     #pegando dias onde temos ambos os dados\n",
    "         right=agg, right_on='created_utc')\n",
    "\n",
    "reddcorr_m=pd.merge(left=preco2019[preco2019['month_end_bool']==1],     #pegando meses onde temos ambos os dados\n",
    "         right=base_monthly, on='dt_month_year')"
   ]
  },
  {
   "cell_type": "code",
   "execution_count": null,
   "metadata": {},
   "outputs": [],
   "source": [
    "# sns.pairplot(reddcorr, hue='dt_month_year', diag_kind='hist')"
   ]
  },
  {
   "cell_type": "code",
   "execution_count": 118,
   "metadata": {},
   "outputs": [],
   "source": [
    "def commentcorr(dado1, dado2):                                          #função que avalia o melhor número de dias de lag\n",
    "    dummy=0                                                         #através da correlação entre os dados extraídos e os dados do btc\n",
    "    max = 0                                                         #dado 1 começa a partir da i+1-ésima, logo é o dado que queremos prever\n",
    "    for i in range(15):\n",
    "        if i == 7:\n",
    "            print(\"Lag de maior correlação:\", max, \" lags atrás\")\n",
    "            return \n",
    "        k=i+1\n",
    "        h=i-7\n",
    "        if i==0:\n",
    "            print(\"Correlação com comentários do lag anterior:\", np.corrcoef(dado1[k:h], dado2[:-8])[0][1])\n",
    "        else:\n",
    "            print(\"Correlação com comentários de \", 1+i, \" lags atrás:\", np.corrcoef(dado1[k:h], dado2[:-8])[0][1])\n",
    "        if np.corrcoef(dado1[k:h], dado2[:-8])[0][1]>dummy:\n",
    "            dummy = np.corrcoef(dado1[k:h], dado2[:-8])[0][1]\n",
    "            max=i+1"
   ]
  },
  {
   "cell_type": "code",
   "execution_count": 119,
   "metadata": {},
   "outputs": [
    {
     "name": "stdout",
     "output_type": "stream",
     "text": [
      "Correlação com comentários do lag anterior: -0.2857976308609017\n",
      "Correlação com comentários de  2  lags atrás: -0.6591102229513092\n",
      "Correlação com comentários de  3  lags atrás: -0.6426826982076997\n",
      "Correlação com comentários de  4  lags atrás: -0.2115047888155508\n",
      "Correlação com comentários de  5  lags atrás: 0.12080074950523827\n",
      "Correlação com comentários de  6  lags atrás: 0.32517920583321025\n",
      "Correlação com comentários de  7  lags atrás: -0.016498243254228526\n",
      "Lag de maior correlação: 6  lags atrás\n"
     ]
    }
   ],
   "source": [
    "commentcorr(reddcorr_m['Close'], reddcorr_m['value'])                                #aplicando a função à base de comentários do reddit"
   ]
  },
  {
   "cell_type": "code",
   "execution_count": 120,
   "metadata": {},
   "outputs": [
    {
     "name": "stdout",
     "output_type": "stream",
     "text": [
      "Correlação com comentários do lag anterior: 0.0368245830225779\n",
      "Correlação com comentários de  2  lags atrás: 0.03860449409260005\n",
      "Correlação com comentários de  3  lags atrás: 0.04205005267600763\n",
      "Correlação com comentários de  4  lags atrás: 0.03604325828316604\n",
      "Correlação com comentários de  5  lags atrás: 0.028584474005855818\n",
      "Correlação com comentários de  6  lags atrás: 0.030188268328582384\n",
      "Correlação com comentários de  7  lags atrás: 0.028792405064350494\n",
      "Lag de maior correlação: 3  lags atrás\n"
     ]
    }
   ],
   "source": [
    "commentcorr(reddcorr['Close'], reddcorr['value'])                                #aplicando a função à base de comentários do reddit"
   ]
  },
  {
   "cell_type": "code",
   "execution_count": 1,
   "metadata": {},
   "outputs": [],
   "source": [
    "#Para comentários, tomaremos comentários de 3 dias atrás para as previsões"
   ]
  },
  {
   "cell_type": "code",
   "execution_count": 103,
   "metadata": {},
   "outputs": [],
   "source": [
    "dado = pd.read_excel('market_analysis_news.xlsx')                       #notícias extraídas por scraping do site cointelegraph.com"
   ]
  },
  {
   "cell_type": "code",
   "execution_count": 104,
   "metadata": {},
   "outputs": [
    {
     "data": {
      "text/html": [
       "<div>\n",
       "<style scoped>\n",
       "    .dataframe tbody tr th:only-of-type {\n",
       "        vertical-align: middle;\n",
       "    }\n",
       "\n",
       "    .dataframe tbody tr th {\n",
       "        vertical-align: top;\n",
       "    }\n",
       "\n",
       "    .dataframe thead th {\n",
       "        text-align: right;\n",
       "    }\n",
       "</style>\n",
       "<table border=\"1\" class=\"dataframe\">\n",
       "  <thead>\n",
       "    <tr style=\"text-align: right;\">\n",
       "      <th></th>\n",
       "      <th>Link</th>\n",
       "      <th>Date</th>\n",
       "      <th>Title</th>\n",
       "      <th>Content</th>\n",
       "      <th>Views</th>\n",
       "    </tr>\n",
       "  </thead>\n",
       "  <tbody>\n",
       "    <tr>\n",
       "      <th>0</th>\n",
       "      <td>https://cointelegraph.com/news/top-5-crypto-pe...</td>\n",
       "      <td>2018-11-03</td>\n",
       "      <td>Top Crypto Performers Overview: Bitcoin Cash, ...</td>\n",
       "      <td>The views and opinions expressed here are sole...</td>\n",
       "      <td>18841</td>\n",
       "    </tr>\n",
       "    <tr>\n",
       "      <th>1</th>\n",
       "      <td>https://cointelegraph.com/news/top-5-crypto-pe...</td>\n",
       "      <td>2018-11-18</td>\n",
       "      <td>Top 5 Crypto Performers Overview: XEM, Ripple,...</td>\n",
       "      <td>The views and opinions expressed here are sole...</td>\n",
       "      <td>19060</td>\n",
       "    </tr>\n",
       "    <tr>\n",
       "      <th>2</th>\n",
       "      <td>https://cointelegraph.com/news/top-5-crypto-pe...</td>\n",
       "      <td>2018-11-24</td>\n",
       "      <td>Top 5 Crypto Performers Overview: XEM, Ripple,...</td>\n",
       "      <td>The views and opinions expressed here are sole...</td>\n",
       "      <td>36308</td>\n",
       "    </tr>\n",
       "    <tr>\n",
       "      <th>3</th>\n",
       "      <td>https://cointelegraph.com/news/top-5-crypto-pe...</td>\n",
       "      <td>2018-12-02</td>\n",
       "      <td>Top 5 Crypto Performers Overview: TRON, Liteco...</td>\n",
       "      <td>Critics are pointing to large energy consumpti...</td>\n",
       "      <td>27758</td>\n",
       "    </tr>\n",
       "    <tr>\n",
       "      <th>4</th>\n",
       "      <td>https://cointelegraph.com/news/top-5-crypto-pe...</td>\n",
       "      <td>2018-12-09</td>\n",
       "      <td>Top 5 Crypto Performers Overview: BSV, XEM, TR...</td>\n",
       "      <td>In a bear market, the sentiment is most bearis...</td>\n",
       "      <td>16545</td>\n",
       "    </tr>\n",
       "    <tr>\n",
       "      <th>...</th>\n",
       "      <td>...</td>\n",
       "      <td>...</td>\n",
       "      <td>...</td>\n",
       "      <td>...</td>\n",
       "      <td>...</td>\n",
       "    </tr>\n",
       "    <tr>\n",
       "      <th>421</th>\n",
       "      <td>https://cointelegraph.com/news/record-ethereum...</td>\n",
       "      <td>2020-08-15</td>\n",
       "      <td>Record Ethereum Network Use and Gas Fees Pose ...</td>\n",
       "      <td>The number of Ethereum network transactions mo...</td>\n",
       "      <td>16768</td>\n",
       "    </tr>\n",
       "    <tr>\n",
       "      <th>422</th>\n",
       "      <td>https://cointelegraph.com/news/eth-options-dat...</td>\n",
       "      <td>2020-08-16</td>\n",
       "      <td>ETH Options Data Suggest $500 Ethereum Price I...</td>\n",
       "      <td>Open interest on Ether (ETH) futures grew by 2...</td>\n",
       "      <td>21790</td>\n",
       "    </tr>\n",
       "    <tr>\n",
       "      <th>423</th>\n",
       "      <td>https://cointelegraph.com/news/bitcoin-investo...</td>\n",
       "      <td>2020-08-17</td>\n",
       "      <td>Bitcoin Investors Swap for Ethereum â€˜Wrapped...</td>\n",
       "      <td>Demand for Wrapped Bitcoin (WBTC) has been gro...</td>\n",
       "      <td>32815</td>\n",
       "    </tr>\n",
       "    <tr>\n",
       "      <th>424</th>\n",
       "      <td>https://cointelegraph.com/news/bitcoin-price-b...</td>\n",
       "      <td>2020-08-17</td>\n",
       "      <td>Bitcoin Price Breaks $12K, but Is It the Final...</td>\n",
       "      <td>In the previous weeks, altcoins gained momentu...</td>\n",
       "      <td>24953</td>\n",
       "    </tr>\n",
       "    <tr>\n",
       "      <th>425</th>\n",
       "      <td>https://cointelegraph.com/news/bitcoin-price-1...</td>\n",
       "      <td>2020-08-19</td>\n",
       "      <td>Bitcoin Price $12K Breakout Fails â€” Hereâ€™s...</td>\n",
       "      <td>The price of Bitcoin (BTC) broke through the r...</td>\n",
       "      <td>18522</td>\n",
       "    </tr>\n",
       "  </tbody>\n",
       "</table>\n",
       "<p>426 rows × 5 columns</p>\n",
       "</div>"
      ],
      "text/plain": [
       "                                                  Link       Date  \\\n",
       "0    https://cointelegraph.com/news/top-5-crypto-pe... 2018-11-03   \n",
       "1    https://cointelegraph.com/news/top-5-crypto-pe... 2018-11-18   \n",
       "2    https://cointelegraph.com/news/top-5-crypto-pe... 2018-11-24   \n",
       "3    https://cointelegraph.com/news/top-5-crypto-pe... 2018-12-02   \n",
       "4    https://cointelegraph.com/news/top-5-crypto-pe... 2018-12-09   \n",
       "..                                                 ...        ...   \n",
       "421  https://cointelegraph.com/news/record-ethereum... 2020-08-15   \n",
       "422  https://cointelegraph.com/news/eth-options-dat... 2020-08-16   \n",
       "423  https://cointelegraph.com/news/bitcoin-investo... 2020-08-17   \n",
       "424  https://cointelegraph.com/news/bitcoin-price-b... 2020-08-17   \n",
       "425  https://cointelegraph.com/news/bitcoin-price-1... 2020-08-19   \n",
       "\n",
       "                                                 Title  \\\n",
       "0    Top Crypto Performers Overview: Bitcoin Cash, ...   \n",
       "1    Top 5 Crypto Performers Overview: XEM, Ripple,...   \n",
       "2    Top 5 Crypto Performers Overview: XEM, Ripple,...   \n",
       "3    Top 5 Crypto Performers Overview: TRON, Liteco...   \n",
       "4    Top 5 Crypto Performers Overview: BSV, XEM, TR...   \n",
       "..                                                 ...   \n",
       "421  Record Ethereum Network Use and Gas Fees Pose ...   \n",
       "422  ETH Options Data Suggest $500 Ethereum Price I...   \n",
       "423  Bitcoin Investors Swap for Ethereum â€˜Wrapped...   \n",
       "424  Bitcoin Price Breaks $12K, but Is It the Final...   \n",
       "425  Bitcoin Price $12K Breakout Fails â€” Hereâ€™s...   \n",
       "\n",
       "                                               Content  Views  \n",
       "0    The views and opinions expressed here are sole...  18841  \n",
       "1    The views and opinions expressed here are sole...  19060  \n",
       "2    The views and opinions expressed here are sole...  36308  \n",
       "3    Critics are pointing to large energy consumpti...  27758  \n",
       "4    In a bear market, the sentiment is most bearis...  16545  \n",
       "..                                                 ...    ...  \n",
       "421  The number of Ethereum network transactions mo...  16768  \n",
       "422  Open interest on Ether (ETH) futures grew by 2...  21790  \n",
       "423  Demand for Wrapped Bitcoin (WBTC) has been gro...  32815  \n",
       "424  In the previous weeks, altcoins gained momentu...  24953  \n",
       "425  The price of Bitcoin (BTC) broke through the r...  18522  \n",
       "\n",
       "[426 rows x 5 columns]"
      ]
     },
     "execution_count": 104,
     "metadata": {},
     "output_type": "execute_result"
    }
   ],
   "source": [
    "dado"
   ]
  },
  {
   "cell_type": "code",
   "execution_count": 126,
   "metadata": {},
   "outputs": [],
   "source": [
    "dado['TBPolarity'] = pd.Series(dtype='float')\n",
    "dado['TBSubjectivity'] = pd.Series(dtype='float')\n",
    "\n",
    "def textblob_pol(body):\n",
    "    \n",
    "    return TextBlob(body).sentiment.polarity                         #aplicando o processo feito com os comentários do reddit\n",
    "\n",
    "def textblob_sub(body):\n",
    "    \n",
    "    return TextBlob(body).sentiment.subjectivity\n",
    "\n",
    "dado['TBPolarity'] = dado['Content'].apply(textblob_pol)\n",
    "\n",
    "dado['TBSubjectivity'] = dado['Content'].apply(textblob_sub)\n",
    "\n",
    "dado.to_pickle('noticias.pkl')"
   ]
  },
  {
   "cell_type": "code",
   "execution_count": 127,
   "metadata": {},
   "outputs": [],
   "source": [
    "news = pd.read_pickle('noticias.pkl')\n",
    "\n",
    "news['Date'] = pd.to_datetime(news['Date'])\n",
    "news=news.loc[(news['Date']> '2018-12-31') & (news['Date']< '2020-08-19')]     #mesma coisa     \n",
    "\n",
    "news['weight'] = news['Views']/news.groupby('Date')['Views'].transform('sum')\n",
    "news['value']=news['TBPolarity']*news['weight']"
   ]
  },
  {
   "cell_type": "code",
   "execution_count": 128,
   "metadata": {},
   "outputs": [],
   "source": [
    "newsagg = news.set_index('Date').groupby(pd.Grouper(freq='D')).sum()"
   ]
  },
  {
   "cell_type": "code",
   "execution_count": 129,
   "metadata": {},
   "outputs": [],
   "source": [
    "newsagg.reset_index(inplace=True)#tomando o índice original para uma operação a seguir, pode ser removido se trocarmos o for por outro método\n",
    "newsagg['dummy'] = ''             #apenas utilizado no for"
   ]
  },
  {
   "cell_type": "code",
   "execution_count": 135,
   "metadata": {},
   "outputs": [],
   "source": [
    "for i in range(len(newsagg)):                                                  #triste\n",
    "    if newsagg['value'][i] != 0:                                      #esse for é utilizado pra fazer o decay de notícias, assim não temos\n",
    "        newsagg.loc[i, 'dummy'] = 0                                   #dias com valor nulo de sentimento de notícias relacionadas a bitcoin.\n",
    "    elif (newsagg['value'][i] == 0) & (newsagg['dummy'][i-1] == 0):   #Basicamente, ele checa se o dia anterior teve notícias, e se não teve\n",
    "        newsagg.loc[i, 'dummy'] = 1                                   #ele vê quantos dias atrás houveram notícias através do dummy.\n",
    "    elif (newsagg['value'][i] == 0) & (newsagg['dummy'][i-1] == 1):   #Note que o método depende do índice, logo devemos tirar o índice de\n",
    "        newsagg.loc[i, 'dummy'] = 2                                   #data.\n",
    "    elif (newsagg['value'][i] == 0) & (newsagg['dummy'][i-1] == 2):   #Para alterar, basta encontrar outra maneira de saber quantos dias \n",
    "        newsagg.loc[i, 'dummy'] = 3                                   #atrás houve a última notícia de modo preciso, para poder operar\n",
    "    elif (newsagg['value'][i] == 0) & (newsagg['dummy'][i-1] == 3):   #o decaimento da importância do sentimento. \n",
    "        newsagg.loc[i, 'dummy'] = 4\n",
    "    elif (newsagg['value'][i] == 0) & (newsagg['dummy'][i-1] == 4):   #A lógica para o decaimento é a seguinte: consideramos que em um dia\n",
    "        newsagg.loc[i, 'dummy'] = 5                                   #sem notícias, a última notícia postada é a mais importante, descontada\n",
    "    elif (newsagg['value'][i] == 0) & (newsagg['dummy'][i-1] == 5):   #pelo tempo. Ao surgir uma nova, a anterior se torna irrelevante.\n",
    "        newsagg.loc[i, 'dummy'] = 6\n",
    "    elif (newsagg['value'][i] == 0) & (newsagg['dummy'][i-1] == 6):\n",
    "        newsagg.loc[i, 'dummy'] = 7\n",
    "    elif (newsagg['value'][i] == 0) & (newsagg['dummy'][i-1] == 7):\n",
    "        newsagg.loc[i, 'dummy'] = 8\n",
    "    elif (newsagg['value'][i] == 0) & (newsagg['dummy'][i-1] == 8):\n",
    "        newsagg.loc[i, 'dummy'] = 9\n",
    "    elif (newsagg['value'][i] == 0) & (newsagg['dummy'][i-1] == 9):\n",
    "        newsagg.loc[i, 'dummy'] = 10\n",
    "    elif (newsagg['value'][i] == 0) & (newsagg['dummy'][i-1] == 10):\n",
    "        newsagg.loc[i, 'dummy'] = 11\n",
    "    elif (newsagg['value'][i] == 0) & (newsagg['dummy'][i-1] == 11):\n",
    "        newsagg.loc[i, 'dummy'] = 12\n",
    "    elif (newsagg['value'][i] == 0) & (newsagg['dummy'][i-1] == 12):\n",
    "        newsagg.loc[i, 'dummy'] = 13\n",
    "    else:\n",
    "        newsagg.loc[i, 'dummy'] = 'idk'"
   ]
  },
  {
   "cell_type": "code",
   "execution_count": 136,
   "metadata": {},
   "outputs": [],
   "source": [
    "newsagg['value'] = newsagg['value'].replace(to_replace=0, method='ffill')*1/(1+newsagg['dummy'])\n",
    "#já sabendo o número de dias sem notícias, preenchemos os valores e descontamos com uma função inversa (arbitrária)"
   ]
  },
  {
   "cell_type": "code",
   "execution_count": 137,
   "metadata": {},
   "outputs": [],
   "source": [
    "corrnoticias = pd.merge(left=preco2019, left_on='Date',\n",
    "         right=newsagg, right_on='Date')"
   ]
  },
  {
   "cell_type": "code",
   "execution_count": 138,
   "metadata": {},
   "outputs": [],
   "source": [
    "def newscorr(dado1, dado2):                                          #função que avalia o melhor número de dias de lag\n",
    "    dummy=0                                                         #através da correlação entre os dados extraídos e os dados do btc\n",
    "    max = 0                                                         #dado 1 começa a partir da i+1-ésima, logo é o dado que queremos prever\n",
    "    for i in range(15):\n",
    "        if i == 7:\n",
    "            print(\"Lag de maior correlação:\", max, \" dias atrás\")\n",
    "            return \n",
    "        k=i+1\n",
    "        h=i-7\n",
    "        if i==0:\n",
    "            print(\"Correlação com notícias do dia anterior:\", np.corrcoef(dado1[k:h].astype('float64'), dado2[:-8].astype('float64'))[0][1])\n",
    "        else:\n",
    "            print(\"Correlação com notícias de \", 1+i, \" dias atrás:\", np.corrcoef(dado1[k:h].astype('float64'), dado2[:-8].astype('float64'))[0][1])\n",
    "        if np.corrcoef(dado1[k:h].astype('float64'), dado2[:-8].astype('float64'))[0][1]>dummy:\n",
    "            dummy = np.corrcoef(dado1[k:h].astype('float64'), dado2[:-8].astype('float64'))[0][1]\n",
    "            max=k"
   ]
  },
  {
   "cell_type": "code",
   "execution_count": 139,
   "metadata": {},
   "outputs": [
    {
     "name": "stdout",
     "output_type": "stream",
     "text": [
      "Correlação com notícias do dia anterior: 0.30890369099116266\n",
      "Correlação com notícias de  2  dias atrás: 0.30758127625508713\n",
      "Correlação com notícias de  3  dias atrás: 0.30811443380130094\n",
      "Correlação com notícias de  4  dias atrás: 0.3021061508292821\n",
      "Correlação com notícias de  5  dias atrás: 0.2980700292835614\n",
      "Correlação com notícias de  6  dias atrás: 0.2823065343560923\n",
      "Correlação com notícias de  7  dias atrás: 0.27499871056835357\n",
      "Lag de maior correlação: 1  dias atrás\n"
     ]
    }
   ],
   "source": [
    "newscorr(corrnoticias['Close'], corrnoticias['value'])"
   ]
  },
  {
   "cell_type": "code",
   "execution_count": 28,
   "metadata": {},
   "outputs": [],
   "source": [
    "#Para as notícias, tomaremos então lag do dia anterior"
   ]
  },
  {
   "cell_type": "code",
   "execution_count": 29,
   "metadata": {},
   "outputs": [],
   "source": [
    "#introduzindo agora média móvel para tornar as previsões mais suaves."
   ]
  },
  {
   "cell_type": "code",
   "execution_count": 140,
   "metadata": {},
   "outputs": [],
   "source": [
    "def melhorMA(btc, dado):\n",
    "    max=0\n",
    "    value=0\n",
    "    for i in range(200):\n",
    "        lagged =  dado.rolling(window=i+1).mean().dropna()\n",
    "        if np.corrcoef(btc[i:].astype('float64'), lagged.astype('float64'))[0][1]>value:\n",
    "            value = np.corrcoef(btc[i:].astype('float64'), lagged.astype('float64'))[0][1]\n",
    "            max=i+1\n",
    "    print(max, value)\n",
    "    return"
   ]
  },
  {
   "cell_type": "code",
   "execution_count": 145,
   "metadata": {},
   "outputs": [
    {
     "name": "stdout",
     "output_type": "stream",
     "text": [
      "8 0.47290374953695125\n"
     ]
    }
   ],
   "source": [
    "melhorMA(corrnoticias['Close'], corrnoticias['value'])"
   ]
  },
  {
   "cell_type": "code",
   "execution_count": 144,
   "metadata": {},
   "outputs": [
    {
     "data": {
      "text/plain": [
       "[<matplotlib.lines.Line2D at 0x7fe2220bab90>]"
      ]
     },
     "execution_count": 144,
     "metadata": {},
     "output_type": "execute_result"
    },
    {
     "data": {
      "image/png": "[encoded data removed]",
      "text/plain": [
       "<Figure size 432x288 with 1 Axes>"
      ]
     },
     "metadata": {
      "needs_background": "light"
     },
     "output_type": "display_data"
    }
   ],
   "source": [
    "plt.plot(corrnoticias['value'].rolling(window=8).mean().dropna())"
   ]
  },
  {
   "cell_type": "code",
   "execution_count": null,
   "metadata": {},
   "outputs": [],
   "source": []
  }
 ],
 "metadata": {
  "kernelspec": {
   "display_name": "Python 3",
   "language": "python",
   "name": "python3"
  },
  "language_info": {
   "codemirror_mode": {
    "name": "ipython",
    "version": 3
   },
   "file_extension": ".py",
   "mimetype": "text/x-python",
   "name": "python",
   "nbconvert_exporter": "python",
   "pygments_lexer": "ipython3",
   "version": "3.7.6"
  }
 },
 "nbformat": 4,
 "nbformat_minor": 4
}
