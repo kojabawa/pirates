{
 "cells": [
  {
   "cell_type": "code",
   "execution_count": 1,
   "metadata": {},
   "outputs": [],
   "source": [
    "import pandas as pd\n",
    "from textblob import TextBlob\n",
    "import matplotlib.pyplot as plt"
   ]
  },
  {
   "cell_type": "code",
   "execution_count": 15,
   "metadata": {},
   "outputs": [],
   "source": [
    "def busca(df, *words):\n",
    "    \n",
    "    return df[np.logical_xor.reduce([df['Content'].str.contains(word) for word in words])]"
   ]
  },
  {
   "cell_type": "code",
   "execution_count": 37,
   "metadata": {},
   "outputs": [],
   "source": [
    "news = pd.read_pickle('noticias.pkl')\n",
    "\n",
    "news['Date'] = pd.to_datetime(news['Date'])\n",
    "news=news.loc[(news['Date']> '2018-12-31') & (news['Date']< '2020-08-19')]\n",
    "news = busca(news, 'bitcoin', 'Bitcoin')"
   ]
  },
  {
   "cell_type": "code",
   "execution_count": 38,
   "metadata": {},
   "outputs": [],
   "source": [
    "news['weight'] = news['Views']/news.groupby('Date')['Views'].transform('sum')\n",
    "news['value']=news['TBPolarity']*news['weight']"
   ]
  },
  {
   "cell_type": "code",
   "execution_count": 70,
   "metadata": {},
   "outputs": [
    {
     "name": "stderr",
     "output_type": "stream",
     "text": [
      "C:\\Users\\dwsur\\Anaconda3\\lib\\site-packages\\ipykernel_launcher.py:4: SettingWithCopyWarning: \n",
      "A value is trying to be set on a copy of a slice from a DataFrame.\n",
      "Try using .loc[row_indexer,col_indexer] = value instead\n",
      "\n",
      "See the caveats in the documentation: https://pandas.pydata.org/pandas-docs/stable/user_guide/indexing.html#returning-a-view-versus-a-copy\n",
      "  after removing the cwd from sys.path.\n"
     ]
    }
   ],
   "source": [
    "preço_btc = pd.read_csv('btcusd.csv', skiprows=1).sort_values(by='Date')\n",
    "\n",
    "preço2019 = preço_btc[(pd.to_datetime(preço_btc['Date']).dt.year >= 2019)]\n",
    "preço2019['Date']=pd.to_datetime(preço2019['Date'])"
   ]
  },
  {
   "cell_type": "code",
   "execution_count": 3,
   "metadata": {},
   "outputs": [],
   "source": [
    "import numpy as np"
   ]
  },
  {
   "cell_type": "code",
   "execution_count": 4,
   "metadata": {},
   "outputs": [],
   "source": [
    "def newscorr(dado1, dado2):                                          #função que avalia o melhor número de dias de lag\n",
    "    dummy=0                                                         #através da correlação entre os dados extraídos e os dados do btc\n",
    "    max = 0                                                         #dado 1 começa a partir da i+1-ésima, logo é o dado que queremos prever\n",
    "    for i in range(15):\n",
    "        if i == 7:\n",
    "            print(\"Lag de maior correlação:\", max, \" dias atrás\")\n",
    "            return \n",
    "        k=i+1\n",
    "        h=i-7\n",
    "        if i==0:\n",
    "            print(\"Correlação com notícias do dia anterior:\", np.corrcoef(dado1[k:h].astype('float64'), dado2[:-8].astype('float64'))[0][1])\n",
    "        else:\n",
    "            print(\"Correlação com notícias de \", 1+i, \" dias atrás:\", np.corrcoef(dado1[k:h].astype('float64'), dado2[:-8].astype('float64'))[0][1])\n",
    "        if np.corrcoef(dado1[k:h].astype('float64'), dado2[:-8].astype('float64'))[0][1]>dummy:\n",
    "            dummy = np.corrcoef(dado1[k:h].astype('float64'), dado2[:-8].astype('float64'))[0][1]\n",
    "            max=i+1"
   ]
  },
  {
   "cell_type": "code",
   "execution_count": 84,
   "metadata": {},
   "outputs": [],
   "source": [
    "newsagg = news.set_index('Date').groupby(pd.Grouper(freq='D')).sum()\n",
    "\n",
    "idx = pd.date_range('01-01-2019', '08-17-2020')\n",
    "newsagg = newsagg.reindex(idx, fill_value=0)\n",
    "\n",
    "newsagg.reset_index(inplace=True)"
   ]
  },
  {
   "cell_type": "code",
   "execution_count": 85,
   "metadata": {},
   "outputs": [],
   "source": [
    "newsagg['valor']=0"
   ]
  },
  {
   "cell_type": "code",
   "execution_count": 86,
   "metadata": {},
   "outputs": [],
   "source": [
    "for i in range(np.shape(newsagg)[0]):\n",
    "    if i == 12:\n",
    "        newsagg.loc[i, 'valor'] = newsagg.loc[i, 'value']\n",
    "    if i == 13:\n",
    "        newsagg.loc[i, 'valor'] = newsagg.loc[i-1, 'value']/2\n",
    "    elif i>13:\n",
    "        newsagg.loc[i, 'valor'] = newsagg.loc[i, 'value'] + newsagg.loc[i-1, 'value']/2 + \\\n",
    "        newsagg.loc[i-2, 'value']/6 + newsagg.loc[i-3, 'value']/8 +newsagg.loc[i-4, 'value']/10 + \\\n",
    "        newsagg.loc[i-5, 'value']/12 + newsagg.loc[i-6, 'value']/14 + newsagg.loc[i-7, 'value']/16 + \\\n",
    "        newsagg.loc[i-8, 'value']/18 + newsagg.loc[i-9, 'value']/20 + newsagg.loc[i-10, 'value']/22 + \\\n",
    "        newsagg.loc[i-11, 'value']/24 + newsagg.loc[i-12, 'value']/26 + newsagg.loc[i-13, 'value']/28"
   ]
  },
  {
   "cell_type": "code",
   "execution_count": 87,
   "metadata": {},
   "outputs": [
    {
     "name": "stderr",
     "output_type": "stream",
     "text": [
      "C:\\Users\\dwsur\\Anaconda3\\lib\\site-packages\\ipykernel_launcher.py:1: FutureWarning: DataFrame.mean and DataFrame.median with numeric_only=None will include datetime64 and datetime64tz columns in a future version.\n",
      "  \"\"\"Entry point for launching an IPython kernel.\n"
     ]
    },
    {
     "data": {
      "text/plain": [
       "Views             12469.337232\n",
       "TBPolarity            0.048473\n",
       "TBSubjectivity        0.299375\n",
       "weight                0.557505\n",
       "value                 0.037410\n",
       "valor                 0.088258\n",
       "dtype: float64"
      ]
     },
     "execution_count": 87,
     "metadata": {},
     "output_type": "execute_result"
    }
   ],
   "source": [
    "newsagg.loc[newsagg[\"valor\"] != 0].mean()"
   ]
  },
  {
   "cell_type": "code",
   "execution_count": 96,
   "metadata": {},
   "outputs": [],
   "source": [
    "newsagg.loc[newsagg[\"valor\"] == 0, 'valor'] = 0.088258"
   ]
  },
  {
   "cell_type": "code",
   "execution_count": 97,
   "metadata": {},
   "outputs": [],
   "source": [
    "corr = pd.merge(left=preço2019, left_on='Date',\n",
    "         right=newsagg, right_on='index')"
   ]
  },
  {
   "cell_type": "code",
   "execution_count": 98,
   "metadata": {},
   "outputs": [
    {
     "name": "stdout",
     "output_type": "stream",
     "text": [
      "Correlação com notícias do dia anterior: 0.3961847999865827\n",
      "Correlação com notícias de  2  dias atrás: 0.3978199821255872\n",
      "Correlação com notícias de  3  dias atrás: 0.4011226117398951\n",
      "Correlação com notícias de  4  dias atrás: 0.40038274688390896\n",
      "Correlação com notícias de  5  dias atrás: 0.3930931192662326\n",
      "Correlação com notícias de  6  dias atrás: 0.3820596355285539\n",
      "Correlação com notícias de  7  dias atrás: 0.37788687578111635\n",
      "Lag de maior correlação: 3  dias atrás\n"
     ]
    }
   ],
   "source": [
    "newscorr(corr['Close'], corr['valor'])"
   ]
  },
  {
   "cell_type": "code",
   "execution_count": 101,
   "metadata": {},
   "outputs": [],
   "source": [
    "def melhorMA(btc, dado):\n",
    "    max=0\n",
    "    value=0\n",
    "    for i in range(30):\n",
    "        lagged =  dado.rolling(window=i+1).mean().dropna()\n",
    "        if np.corrcoef(btc[i:].astype('float64'), lagged.astype('float64'))[0][1]>value:\n",
    "            value = np.corrcoef(btc[i:].astype('float64'), lagged.astype('float64'))[0][1]\n",
    "            max=i+1\n",
    "        print(np.corrcoef(btc[i:].astype('float64'), lagged.astype('float64'))[0][1])\n",
    "    print(max, value)\n",
    "    return"
   ]
  },
  {
   "cell_type": "code",
   "execution_count": 103,
   "metadata": {},
   "outputs": [
    {
     "name": "stdout",
     "output_type": "stream",
     "text": [
      "0.398116768803467\n",
      "0.4234933545610348\n",
      "0.44128032420687907\n",
      "0.45404958449727917\n",
      "0.46470320760140943\n",
      "0.47275119385064374\n",
      "0.4775704522731772\n",
      "0.481313983815163\n",
      "0.4843307081372272\n",
      "0.48626844062525565\n",
      "0.4884067320335192\n",
      "0.49027375427203945\n",
      "0.49171010257655406\n",
      "0.4926344559817124\n",
      "0.49308229468527615\n",
      "0.49312099982701535\n",
      "0.49213118353261737\n",
      "0.49082623933816966\n",
      "0.4891746396598621\n",
      "0.48718357225171727\n",
      "0.48472470797718675\n",
      "0.4817906783041506\n",
      "0.47885855472496897\n",
      "0.4755575609947252\n",
      "0.47179107871866394\n",
      "0.46769156494041986\n",
      "0.4633839149418242\n",
      "0.45911829001497295\n",
      "0.45487741070932836\n",
      "0.4507352878850492\n",
      "16 0.49312099982701535\n"
     ]
    }
   ],
   "source": [
    "melhorMA(corr['Close'], corr['valor'])"
   ]
  },
  {
   "cell_type": "code",
   "execution_count": 142,
   "metadata": {},
   "outputs": [],
   "source": [
    "def lucro(preços, decisao):\n",
    "    inicio = True\n",
    "    btc = 0\n",
    "    primeiro = False\n",
    "    caixa = 0\n",
    "    investimento = 0\n",
    "    valor = []\n",
    "    for i in range(np.shape(preços)[0]):\n",
    "        if (inicio == True) & (decisao.loc[i, 'compra'] == True):\n",
    "            inicio = False\n",
    "            btc = 1\n",
    "            primeiro = True\n",
    "            investimento = preços.loc[i+17, 'Open']\n",
    "        elif (inicio == False) & (decisao.loc[i, 'venda'] == True) & (primeiro == True):\n",
    "            btc = 0\n",
    "            primeiro = False\n",
    "            caixa = preços.loc[i+17, 'Close']\n",
    "        elif (inicio == False) & (decisao.loc[i, 'compra'] == True) & (primeiro == False):\n",
    "            btc = caixa/preços.loc[i+17, 'Open']\n",
    "            caixa = 0\n",
    "        elif (inicio == False) & (decisao.loc[i, 'venda'] == True) & (primeiro == False):\n",
    "            caixa = btc*preços.loc[i+17, 'Close']\n",
    "            btc = 0\n",
    "        valor.append(max(caixa, btc*preços.loc[i+16, 'Close']))\n",
    "    if caixa == 0:\n",
    "        caixa = btc*preços.loc[i+16, 'Close']\n",
    "        valor.append(max(caixa, btc*preços.loc[i+16, 'Close']))\n",
    "    return valor, 100*(caixa-investimento)/investimento, pd.Series(valor).var(), caixa/investimento"
   ]
  },
  {
   "cell_type": "code",
   "execution_count": 114,
   "metadata": {},
   "outputs": [],
   "source": [
    "def teste(noticias, preços):\n",
    "    agregado = pd.merge(left=preços, left_on='Date',\n",
    "         right=noticias, right_on='index')\n",
    "    \n",
    "    for i in range(7):\n",
    "        medias = pd.DataFrame()\n",
    "\n",
    "        medias['MA16']=agregado['valor'].rolling(window=16).mean().dropna()\n",
    "        medias['MA4'] = agregado.loc[15-i:, 'valor'].rolling(window=i+1).mean().dropna()\n",
    "\n",
    "        medias = medias.set_index(agregado.loc[15:, 'Date'])\n",
    "\n",
    "        medias['posição'] = medias['MA4'] > medias['MA16']\n",
    "        medias['anterior'] =  medias['posição'].shift(1)\n",
    "\n",
    "        medias.dropna(inplace=True)\n",
    "\n",
    "        medias['mudança'] = np.where(medias['posição'] == medias['anterior'], False, True)\n",
    "\n",
    "        medias = medias.reset_index()\n",
    "\n",
    "        medias['venda'] = np.where((medias['posição'] == False) & (medias['mudança'] == True), True, False)\n",
    "        medias['compra'] = np.where((medias['posição'] == True) & (medias['mudança'] == True), True, False)\n",
    "        \n",
    "        print(lucro(agregado[16:], medias)[1], lucro(agregado[16:], medias)[2])"
   ]
  },
  {
   "cell_type": "code",
   "execution_count": 115,
   "metadata": {},
   "outputs": [
    {
     "name": "stdout",
     "output_type": "stream",
     "text": [
      "323.49336452920613 9246679.332873909\n",
      "231.879791032121 4533511.684869946\n",
      "367.47410686861906 11305045.038896184\n",
      "446.4062012736712 17456743.271640666\n",
      "157.34024364618648 8061391.053499199\n",
      "219.88252611923664 10284768.445929904\n",
      "214.80836945536979 11099461.394663785\n"
     ]
    }
   ],
   "source": [
    "teste(newsagg, preço2019)"
   ]
  },
  {
   "cell_type": "code",
   "execution_count": 146,
   "metadata": {},
   "outputs": [],
   "source": [
    "medias = pd.DataFrame()\n",
    "\n",
    "medias['MA18']=newsagg['valor'].rolling(window=16).mean().dropna()\n",
    "medias['MA4'] = newsagg.loc[15:, 'valor'].rolling(window=1).mean().dropna()\n",
    "\n",
    "medias = medias.set_index(newsagg.loc[15:, 'index'])\n",
    "\n",
    "medias['posição'] = medias['MA4'] > medias['MA18']\n",
    "medias['anterior'] =  medias['posição'].shift(1)\n",
    "\n",
    "medias.dropna(inplace=True)\n",
    "\n",
    "medias['mudança'] = np.where(medias['posição'] == medias['anterior'], False, True)\n",
    "\n",
    "medias = medias.reset_index()\n",
    "\n",
    "medias['venda'] = np.where((medias['posição'] == False) & (medias['mudança'] == True), True, False)\n",
    "medias['compra'] = np.where((medias['posição'] == True) & (medias['mudança'] == True), True, False)"
   ]
  },
  {
   "cell_type": "code",
   "execution_count": 147,
   "metadata": {},
   "outputs": [
    {
     "data": {
      "text/plain": [
       "(155.79808839979336, 2900687.5080049704, 2.5579808839979337)"
      ]
     },
     "execution_count": 147,
     "metadata": {},
     "output_type": "execute_result"
    }
   ],
   "source": [
    "lucro(corr[16:], medias)[-3:]"
   ]
  },
  {
   "cell_type": "code",
   "execution_count": 141,
   "metadata": {},
   "outputs": [
    {
     "data": {
      "image/png": "[encoded data removed]",
      "text/plain": [
       "<Figure size 432x288 with 1 Axes>"
      ]
     },
     "metadata": {
      "needs_background": "light"
     },
     "output_type": "display_data"
    }
   ],
   "source": [
    "plt.plot(corr.loc[16:, 'Close'].reset_index())\n",
    "plt.plot(lucro(corr[16:], medias)[0])\n",
    "plt.show()"
   ]
  },
  {
   "cell_type": "code",
   "execution_count": 151,
   "metadata": {},
   "outputs": [],
   "source": [
    "df = pd.DataFrame(lucro(corr[16:], medias)[0])"
   ]
  },
  {
   "cell_type": "code",
   "execution_count": 154,
   "metadata": {},
   "outputs": [
    {
     "data": {
      "text/html": [
       "<div>\n",
       "<style scoped>\n",
       "    .dataframe tbody tr th:only-of-type {\n",
       "        vertical-align: middle;\n",
       "    }\n",
       "\n",
       "    .dataframe tbody tr th {\n",
       "        vertical-align: top;\n",
       "    }\n",
       "\n",
       "    .dataframe thead th {\n",
       "        text-align: right;\n",
       "    }\n",
       "</style>\n",
       "<table border=\"1\" class=\"dataframe\">\n",
       "  <thead>\n",
       "    <tr style=\"text-align: right;\">\n",
       "      <th></th>\n",
       "      <th>0</th>\n",
       "    </tr>\n",
       "  </thead>\n",
       "  <tbody>\n",
       "    <tr>\n",
       "      <th>0</th>\n",
       "      <td>NaN</td>\n",
       "    </tr>\n",
       "    <tr>\n",
       "      <th>1</th>\n",
       "      <td>NaN</td>\n",
       "    </tr>\n",
       "    <tr>\n",
       "      <th>2</th>\n",
       "      <td>NaN</td>\n",
       "    </tr>\n",
       "    <tr>\n",
       "      <th>3</th>\n",
       "      <td>NaN</td>\n",
       "    </tr>\n",
       "    <tr>\n",
       "      <th>4</th>\n",
       "      <td>NaN</td>\n",
       "    </tr>\n",
       "    <tr>\n",
       "      <th>...</th>\n",
       "      <td>...</td>\n",
       "    </tr>\n",
       "    <tr>\n",
       "      <th>563</th>\n",
       "      <td>0.178852</td>\n",
       "    </tr>\n",
       "    <tr>\n",
       "      <th>564</th>\n",
       "      <td>0.170310</td>\n",
       "    </tr>\n",
       "    <tr>\n",
       "      <th>565</th>\n",
       "      <td>0.068892</td>\n",
       "    </tr>\n",
       "    <tr>\n",
       "      <th>566</th>\n",
       "      <td>0.137054</td>\n",
       "    </tr>\n",
       "    <tr>\n",
       "      <th>567</th>\n",
       "      <td>0.112417</td>\n",
       "    </tr>\n",
       "  </tbody>\n",
       "</table>\n",
       "<p>568 rows × 1 columns</p>\n",
       "</div>"
      ],
      "text/plain": [
       "            0\n",
       "0         NaN\n",
       "1         NaN\n",
       "2         NaN\n",
       "3         NaN\n",
       "4         NaN\n",
       "..        ...\n",
       "563  0.178852\n",
       "564  0.170310\n",
       "565  0.068892\n",
       "566  0.137054\n",
       "567  0.112417\n",
       "\n",
       "[568 rows x 1 columns]"
      ]
     },
     "execution_count": 154,
     "metadata": {},
     "output_type": "execute_result"
    }
   ],
   "source": [
    "df.pct_change().rolling(window=3).std()*(252**0.5)"
   ]
  },
  {
   "cell_type": "code",
   "execution_count": null,
   "metadata": {},
   "outputs": [],
   "source": []
  }
 ],
 "metadata": {
  "kernelspec": {
   "display_name": "Python 3",
   "language": "python",
   "name": "python3"
  },
  "language_info": {
   "codemirror_mode": {
    "name": "ipython",
    "version": 3
   },
   "file_extension": ".py",
   "mimetype": "text/x-python",
   "name": "python",
   "nbconvert_exporter": "python",
   "pygments_lexer": "ipython3",
   "version": "3.7.4"
  }
 },
 "nbformat": 4,
 "nbformat_minor": 4
}
