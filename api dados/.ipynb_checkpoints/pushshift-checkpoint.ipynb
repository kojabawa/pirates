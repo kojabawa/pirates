{
 "cells": [
  {
   "cell_type": "code",
   "execution_count": 24,
   "metadata": {},
   "outputs": [],
   "source": [
    "import requests as req  #para puxar a API\n",
    "import pandas as pd"
   ]
  },
  {
   "cell_type": "code",
   "execution_count": 89,
   "metadata": {},
   "outputs": [],
   "source": [
    "from datetime import datetime"
   ]
  },
  {
   "cell_type": "code",
   "execution_count": 9,
   "metadata": {},
   "outputs": [],
   "source": [
    "def getcomments(tipo, **kwargs):\n",
    "    base_url = f\"https://api.pushshift.io/reddit/search/{tipo}/\"\n",
    "    payload = kwargs\n",
    "    request = req.get(base_url, params=payload)\n",
    "    return request.json()"
   ]
  },
  {
   "cell_type": "code",
   "execution_count": 163,
   "metadata": {},
   "outputs": [],
   "source": [
    "tipo = \"comment\"\n",
    "query = \"the\"\n",
    "duration = \"1y\"\n",
    "size = 500\n",
    "sort_type = \"score\"\n",
    "sort = \"desc\"\n",
    "subreddit = \"bitcoin\""
   ]
  },
  {
   "cell_type": "code",
   "execution_count": 164,
   "metadata": {},
   "outputs": [],
   "source": [
    "base = getcomments(tipo = tipo, q = query, size = size, \n",
    "           after = duration, sort_type = sort_type,\n",
    "           sort = sort, subreddit = subreddit)"
   ]
  },
  {
   "cell_type": "code",
   "execution_count": 157,
   "metadata": {},
   "outputs": [],
   "source": [
    "dados = pd.DataFrame.from_records(base['data'])[['body', 'score', 'subreddit', 'retrieved_on']]"
   ]
  },
  {
   "cell_type": "code",
   "execution_count": 158,
   "metadata": {},
   "outputs": [],
   "source": [
    "dados['retrieved_on'] = pd.to_datetime(dados['retrieved_on'],unit='s')"
   ]
  },
  {
   "cell_type": "code",
   "execution_count": 168,
   "metadata": {},
   "outputs": [],
   "source": [
    "from psaw import PushshiftAPI"
   ]
  },
  {
   "cell_type": "code",
   "execution_count": 169,
   "metadata": {},
   "outputs": [],
   "source": [
    "api = PushshiftAPI()"
   ]
  },
  {
   "cell_type": "code",
   "execution_count": null,
   "metadata": {},
   "outputs": [],
   "source": [
    "start_epoch=int(datetime(2019, 1, 1).timestamp())\n",
    "\n",
    "teste = pd.DataFrame(api.search_comments(after=start_epoch,\n",
    "                        subreddit='bitcoin',\n",
    "                        filter=['body', 'date', 'score']\n",
    "                        ))\n",
    "teste = teste.drop(['created', 'd_'], axis = 1)\n",
    "\n",
    "teste['created_utc'] = pd.to_datetime(teste['created_utc'],unit='s')\n",
    "\n",
    "teste.info()"
   ]
  }
 ],
 "metadata": {
  "kernelspec": {
   "display_name": "Python 3",
   "language": "python",
   "name": "python3"
  },
  "language_info": {
   "codemirror_mode": {
    "name": "ipython",
    "version": 3
   },
   "file_extension": ".py",
   "mimetype": "text/x-python",
   "name": "python",
   "nbconvert_exporter": "python",
   "pygments_lexer": "ipython3",
   "version": "3.7.4"
  }
 },
 "nbformat": 4,
 "nbformat_minor": 4
}
