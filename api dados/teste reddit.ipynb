{
 "cells": [
  {
   "cell_type": "code",
   "execution_count": 2,
   "metadata": {},
   "outputs": [],
   "source": [
    "import praw\n",
    "import nltk"
   ]
  },
  {
   "cell_type": "code",
   "execution_count": 3,
   "metadata": {},
   "outputs": [
    {
     "name": "stderr",
     "output_type": "stream",
     "text": [
      "[nltk_data] Downloading package vader_lexicon to\n",
      "[nltk_data]     C:\\Users\\dwsur\\AppData\\Roaming\\nltk_data...\n"
     ]
    }
   ],
   "source": [
    "nltk.download('vader_lexicon')\n",
    "from nltk.sentiment.vader import SentimentIntensityAnalyzer"
   ]
  },
  {
   "cell_type": "code",
   "execution_count": 10,
   "metadata": {
    "collapsed": true,
    "jupyter": {
     "outputs_hidden": true,
     "source_hidden": true
    }
   },
   "outputs": [
    {
     "name": "stdout",
     "output_type": "stream",
     "text": [
      "Collecting textblob\n",
      "  Downloading https://files.pythonhosted.org/packages/60/f0/1d9bfcc8ee6b83472ec571406bd0dd51c0e6330ff1a51b2d29861d389e85/textblob-0.15.3-py2.py3-none-any.whl (636kB)\n",
      "Requirement already satisfied: nltk>=3.1 in c:\\users\\dwsur\\anaconda3\\lib\\site-packages (from textblob) (3.4.5)\n",
      "Requirement already satisfied: six in c:\\users\\dwsur\\anaconda3\\lib\\site-packages (from nltk>=3.1->textblob) (1.12.0)\n",
      "Installing collected packages: textblob\n",
      "Successfully installed textblob-0.15.3\n",
      "Note: you may need to restart the kernel to use updated packages.\n"
     ]
    }
   ],
   "source": [
    "pip install textblob"
   ]
  },
  {
   "cell_type": "code",
   "execution_count": 11,
   "metadata": {},
   "outputs": [],
   "source": [
    "from textblob import TextBlob"
   ]
  },
  {
   "cell_type": "code",
   "execution_count": 3,
   "metadata": {},
   "outputs": [],
   "source": [
    "reddit = praw.Reddit(client_id='peY9feM8FXwmFA',\n",
    "                         client_secret='pGoTaBiAPIiaprweR8UtFqR4bW4',\n",
    "                         user_agent='kalash')"
   ]
  },
  {
   "cell_type": "code",
   "execution_count": 5,
   "metadata": {},
   "outputs": [],
   "source": [
    "sia = SentimentIntensityAnalyzer()"
   ]
  },
  {
   "cell_type": "code",
   "execution_count": 4,
   "metadata": {},
   "outputs": [
    {
     "data": {
      "text/plain": [
       "<praw.models.listing.generator.ListingGenerator at 0x2ba1d3dc608>"
      ]
     },
     "execution_count": 4,
     "metadata": {},
     "output_type": "execute_result"
    }
   ],
   "source": [
    "reddit.subreddit('bitcoin').comments(limit=200)"
   ]
  },
  {
   "cell_type": "code",
   "execution_count": 27,
   "metadata": {
    "collapsed": true,
    "jupyter": {
     "outputs_hidden": true
    }
   },
   "outputs": [
    {
     "name": "stdout",
     "output_type": "stream",
     "text": [
      "Title of the post : Bitcoin Newcomers FAQ - Please read!\n",
      "\n",
      "\n",
      "Over all Sentiment of Topic by TextBlob : {'negative': 3, 'positive': 20, 'neutral': 5}\n",
      "Over all Sentiment of Topic by VADER : {'negative': 3, 'positive': 17, 'neutral': 8}\n",
      "\n",
      "\n",
      "\n",
      "\n",
      "Title of the post : Taproot, CoinJoins, and Cross-Input Signature Aggregation\n",
      "\n",
      "\n",
      "Over all Sentiment of Topic by TextBlob : {'negative': 0, 'positive': 5, 'neutral': 6}\n",
      "Over all Sentiment of Topic by VADER : {'negative': 0, 'positive': 5, 'neutral': 6}\n",
      "\n",
      "\n",
      "\n",
      "\n",
      "Title of the post : Bitcoin up 43% since Paul Krugman congratulated himself on predicting it's \"decline\" in 2018\n",
      "\n",
      "\n",
      "Over all Sentiment of Topic by TextBlob : {'negative': 11, 'positive': 13, 'neutral': 8}\n",
      "Over all Sentiment of Topic by VADER : {'negative': 4, 'positive': 8, 'neutral': 20}\n",
      "\n",
      "\n",
      "\n",
      "\n",
      "Title of the post : Keep your bitcoin a secret\n",
      "\n",
      "\n",
      "Over all Sentiment of Topic by TextBlob : {'negative': 11, 'positive': 7, 'neutral': 9}\n",
      "Over all Sentiment of Topic by VADER : {'negative': 4, 'positive': 9, 'neutral': 14}\n",
      "\n",
      "\n",
      "\n",
      "\n",
      "Title of the post : BLOCKCLOCK mini development progress.\n",
      "\n",
      "\n",
      "Over all Sentiment of Topic by TextBlob : {'negative': 0, 'positive': 4, 'neutral': 3}\n",
      "Over all Sentiment of Topic by VADER : {'negative': 0, 'positive': 3, 'neutral': 4}\n",
      "\n",
      "\n",
      "\n",
      "\n",
      "Title of the post : OK Nobody touch anything!!\n",
      "\n",
      "\n",
      "Over all Sentiment of Topic by TextBlob : {'negative': 6, 'positive': 25, 'neutral': 40}\n",
      "Over all Sentiment of Topic by VADER : {'negative': 8, 'positive': 28, 'neutral': 35}\n",
      "\n",
      "\n",
      "\n",
      "\n",
      "Title of the post : Can you believe it? It's been 12 years to the day since the bitcoin.org domain was registered!\n",
      "\n",
      "\n",
      "Over all Sentiment of Topic by TextBlob : {'negative': 1, 'positive': 3, 'neutral': 3}\n",
      "Over all Sentiment of Topic by VADER : {'negative': 0, 'positive': 2, 'neutral': 5}\n",
      "\n",
      "\n",
      "\n",
      "\n",
      "Title of the post : Bitcoin now worth more than all of the New Zealand Dollars in existance. #34 largest currency in the world.\n",
      "\n",
      "\n",
      "Over all Sentiment of Topic by TextBlob : {'negative': 7, 'positive': 9, 'neutral': 5}\n",
      "Over all Sentiment of Topic by VADER : {'negative': 3, 'positive': 11, 'neutral': 7}\n",
      "\n",
      "\n",
      "\n",
      "\n",
      "Title of the post : When this happens; don't say I didn't tell you to buy ฿itcoin\n",
      "\n",
      "\n",
      "Over all Sentiment of Topic by TextBlob : {'negative': 3, 'positive': 6, 'neutral': 5}\n",
      "Over all Sentiment of Topic by VADER : {'negative': 3, 'positive': 2, 'neutral': 9}\n",
      "\n",
      "\n",
      "\n",
      "\n",
      "Title of the post : I know 22 of the 24 words from an old nano back up how screwed am I?\n",
      "\n",
      "\n",
      "Over all Sentiment of Topic by TextBlob : {'negative': 2, 'positive': 8, 'neutral': 1}\n",
      "Over all Sentiment of Topic by VADER : {'negative': 1, 'positive': 6, 'neutral': 4}\n",
      "\n",
      "\n",
      "\n",
      "\n"
     ]
    }
   ],
   "source": [
    "# get 10 hot posts from the showerthoughts subreddit\n",
    "top_posts = reddit.subreddit('bitcoin').hot(limit=10)\n",
    "\n",
    "# Sentiment analysis function for TextBlob tools\n",
    "def text_blob_sentiment(review, sub_entries_textblob):\n",
    "    analysis = TextBlob(review)\n",
    "    if analysis.sentiment.polarity >= 0.0001:\n",
    "        if analysis.sentiment.polarity > 0:\n",
    "            sub_entries_textblob['positive'] = sub_entries_textblob['positive'] + 1\n",
    "            return 'Positive'\n",
    "\n",
    "    elif analysis.sentiment.polarity <= -0.0001:\n",
    "        if analysis.sentiment.polarity <= 0:\n",
    "            sub_entries_textblob['negative'] = sub_entries_textblob['negative'] + 1\n",
    "            return 'Negative'\n",
    "    else:\n",
    "        sub_entries_textblob['neutral'] = sub_entries_textblob['neutral'] + 1\n",
    "        return 'Neutral'\n",
    "    \n",
    "\n",
    "# sentiment analysis function for VADER tool\n",
    "def nltk_sentiment(review, sub_entries_nltk):\n",
    "    vs = sia.polarity_scores(review)\n",
    "    if not vs['neg'] > 0.05:\n",
    "        if vs['pos'] - vs['neg'] > 0:\n",
    "            sub_entries_nltk['positive'] = sub_entries_nltk['positive'] + 1\n",
    "            return 'Positive'\n",
    "        else:\n",
    "            sub_entries_nltk['neutral'] = sub_entries_nltk['neutral'] + 1\n",
    "            return 'Neutral'\n",
    "\n",
    "    elif not vs['pos'] > 0.05:\n",
    "        if vs['pos'] - vs['neg'] <= 0:\n",
    "            sub_entries_nltk['negative'] = sub_entries_nltk['negative'] + 1\n",
    "            return 'Negative'\n",
    "        else:\n",
    "            sub_entries_nltk['neutral'] = sub_entries_nltk['neutral'] + 1\n",
    "            return 'Neutral'\n",
    "    else:\n",
    "        sub_entries_nltk['neutral'] = sub_entries_nltk['neutral'] + 1\n",
    "        return 'Neutral'\n",
    "\n",
    "def main():\n",
    "    \n",
    "    for submission in top_posts:\n",
    "        sub_entries_textblob = {'negative': 0, 'positive' : 0, 'neutral' : 0}\n",
    "        sub_entries_nltk = {'negative': 0, 'positive' : 0, 'neutral' : 0}\n",
    "        print('Title of the post :', submission.title)\n",
    "        text_blob_sentiment(submission.title, sub_entries_textblob)\n",
    "        nltk_sentiment(submission.title, sub_entries_nltk)\n",
    "        print(\"\\n\")\n",
    "        submission_comm = reddit.submission(id=submission.id)\n",
    "\n",
    "        for count, top_level_comment in enumerate(submission_comm.comments):\n",
    "            count_comm = 0\n",
    "            try :\n",
    "                text_blob_sentiment(top_level_comment.body, sub_entries_textblob)\n",
    "                nltk_sentiment(top_level_comment.body, sub_entries_nltk)\n",
    "            except:\n",
    "                continue\n",
    "                \n",
    "        print('Over all Sentiment of Topic by TextBlob :', sub_entries_textblob)\n",
    "        print('Over all Sentiment of Topic by VADER :', sub_entries_nltk)\n",
    "        print(\"\\n\\n\\n\")\n",
    "\n",
    "if __name__ == '__main__' :\n",
    "    main()"
   ]
  },
  {
   "cell_type": "code",
   "execution_count": 28,
   "metadata": {},
   "outputs": [
    {
     "ename": "AttributeError",
     "evalue": "'Comment' object has no attribute 'title'",
     "output_type": "error",
     "traceback": [
      "\u001b[1;31m---------------------------------------------------------------------------\u001b[0m",
      "\u001b[1;31mAttributeError\u001b[0m                            Traceback (most recent call last)",
      "\u001b[1;32m<ipython-input-28-aa5e27f0aff5>\u001b[0m in \u001b[0;36m<module>\u001b[1;34m\u001b[0m\n\u001b[0;32m     65\u001b[0m \u001b[1;33m\u001b[0m\u001b[0m\n\u001b[0;32m     66\u001b[0m \u001b[1;32mif\u001b[0m \u001b[0m__name__\u001b[0m \u001b[1;33m==\u001b[0m \u001b[1;34m'__main__'\u001b[0m \u001b[1;33m:\u001b[0m\u001b[1;33m\u001b[0m\u001b[1;33m\u001b[0m\u001b[0m\n\u001b[1;32m---> 67\u001b[1;33m     \u001b[0mmain\u001b[0m\u001b[1;33m(\u001b[0m\u001b[1;33m)\u001b[0m\u001b[1;33m\u001b[0m\u001b[1;33m\u001b[0m\u001b[0m\n\u001b[0m",
      "\u001b[1;32m<ipython-input-28-aa5e27f0aff5>\u001b[0m in \u001b[0;36mmain\u001b[1;34m()\u001b[0m\n\u001b[0;32m     46\u001b[0m         \u001b[0msub_entries_textblob\u001b[0m \u001b[1;33m=\u001b[0m \u001b[1;33m{\u001b[0m\u001b[1;34m'negative'\u001b[0m\u001b[1;33m:\u001b[0m \u001b[1;36m0\u001b[0m\u001b[1;33m,\u001b[0m \u001b[1;34m'positive'\u001b[0m \u001b[1;33m:\u001b[0m \u001b[1;36m0\u001b[0m\u001b[1;33m,\u001b[0m \u001b[1;34m'neutral'\u001b[0m \u001b[1;33m:\u001b[0m \u001b[1;36m0\u001b[0m\u001b[1;33m}\u001b[0m\u001b[1;33m\u001b[0m\u001b[1;33m\u001b[0m\u001b[0m\n\u001b[0;32m     47\u001b[0m         \u001b[0msub_entries_nltk\u001b[0m \u001b[1;33m=\u001b[0m \u001b[1;33m{\u001b[0m\u001b[1;34m'negative'\u001b[0m\u001b[1;33m:\u001b[0m \u001b[1;36m0\u001b[0m\u001b[1;33m,\u001b[0m \u001b[1;34m'positive'\u001b[0m \u001b[1;33m:\u001b[0m \u001b[1;36m0\u001b[0m\u001b[1;33m,\u001b[0m \u001b[1;34m'neutral'\u001b[0m \u001b[1;33m:\u001b[0m \u001b[1;36m0\u001b[0m\u001b[1;33m}\u001b[0m\u001b[1;33m\u001b[0m\u001b[1;33m\u001b[0m\u001b[0m\n\u001b[1;32m---> 48\u001b[1;33m         \u001b[0mprint\u001b[0m\u001b[1;33m(\u001b[0m\u001b[1;34m'Title of the post :'\u001b[0m\u001b[1;33m,\u001b[0m \u001b[0msubmission\u001b[0m\u001b[1;33m.\u001b[0m\u001b[0mtitle\u001b[0m\u001b[1;33m)\u001b[0m\u001b[1;33m\u001b[0m\u001b[1;33m\u001b[0m\u001b[0m\n\u001b[0m\u001b[0;32m     49\u001b[0m         \u001b[0mtext_blob_sentiment\u001b[0m\u001b[1;33m(\u001b[0m\u001b[0msubmission\u001b[0m\u001b[1;33m.\u001b[0m\u001b[0mtitle\u001b[0m\u001b[1;33m,\u001b[0m \u001b[0msub_entries_textblob\u001b[0m\u001b[1;33m)\u001b[0m\u001b[1;33m\u001b[0m\u001b[1;33m\u001b[0m\u001b[0m\n\u001b[0;32m     50\u001b[0m         \u001b[0mnltk_sentiment\u001b[0m\u001b[1;33m(\u001b[0m\u001b[0msubmission\u001b[0m\u001b[1;33m.\u001b[0m\u001b[0mtitle\u001b[0m\u001b[1;33m,\u001b[0m \u001b[0msub_entries_nltk\u001b[0m\u001b[1;33m)\u001b[0m\u001b[1;33m\u001b[0m\u001b[1;33m\u001b[0m\u001b[0m\n",
      "\u001b[1;32m~\\Anaconda3\\lib\\site-packages\\praw\\models\\reddit\\base.py\u001b[0m in \u001b[0;36m__getattr__\u001b[1;34m(self, attribute)\u001b[0m\n\u001b[0;32m     36\u001b[0m         raise AttributeError(\n\u001b[0;32m     37\u001b[0m             \"{!r} object has no attribute {!r}\".format(\n\u001b[1;32m---> 38\u001b[1;33m                 \u001b[0mself\u001b[0m\u001b[1;33m.\u001b[0m\u001b[0m__class__\u001b[0m\u001b[1;33m.\u001b[0m\u001b[0m__name__\u001b[0m\u001b[1;33m,\u001b[0m \u001b[0mattribute\u001b[0m\u001b[1;33m\u001b[0m\u001b[1;33m\u001b[0m\u001b[0m\n\u001b[0m\u001b[0;32m     39\u001b[0m             )\n\u001b[0;32m     40\u001b[0m         )\n",
      "\u001b[1;31mAttributeError\u001b[0m: 'Comment' object has no attribute 'title'"
     ]
    }
   ],
   "source": [
    "# get 10 hot posts from the showerthoughts subreddit\n",
    "top_posts = reddit.subreddit('bitcoin').comments(limit=200)\n",
    "\n",
    "# Sentiment analysis function for TextBlob tools\n",
    "def text_blob_sentiment(review, sub_entries_textblob):\n",
    "    analysis = TextBlob(review)\n",
    "    if analysis.sentiment.polarity >= 0.0001:\n",
    "        if analysis.sentiment.polarity > 0:\n",
    "            sub_entries_textblob['positive'] = sub_entries_textblob['positive'] + 1\n",
    "            return 'Positive'\n",
    "\n",
    "    elif analysis.sentiment.polarity <= -0.0001:\n",
    "        if analysis.sentiment.polarity <= 0:\n",
    "            sub_entries_textblob['negative'] = sub_entries_textblob['negative'] + 1\n",
    "            return 'Negative'\n",
    "    else:\n",
    "        sub_entries_textblob['neutral'] = sub_entries_textblob['neutral'] + 1\n",
    "        return 'Neutral'\n",
    "    \n",
    "\n",
    "# sentiment analysis function for VADER tool\n",
    "def nltk_sentiment(review, sub_entries_nltk):\n",
    "    vs = sia.polarity_scores(review)\n",
    "    if not vs['neg'] > 0.05:\n",
    "        if vs['pos'] - vs['neg'] > 0:\n",
    "            sub_entries_nltk['positive'] = sub_entries_nltk['positive'] + 1\n",
    "            return 'Positive'\n",
    "        else:\n",
    "            sub_entries_nltk['neutral'] = sub_entries_nltk['neutral'] + 1\n",
    "            return 'Neutral'\n",
    "\n",
    "    elif not vs['pos'] > 0.05:\n",
    "        if vs['pos'] - vs['neg'] <= 0:\n",
    "            sub_entries_nltk['negative'] = sub_entries_nltk['negative'] + 1\n",
    "            return 'Negative'\n",
    "        else:\n",
    "            sub_entries_nltk['neutral'] = sub_entries_nltk['neutral'] + 1\n",
    "            return 'Neutral'\n",
    "    else:\n",
    "        sub_entries_nltk['neutral'] = sub_entries_nltk['neutral'] + 1\n",
    "        return 'Neutral'\n",
    "\n",
    "def main():\n",
    "    \n",
    "    for submission in top_posts:\n",
    "        sub_entries_textblob = {'negative': 0, 'positive' : 0, 'neutral' : 0}\n",
    "        sub_entries_nltk = {'negative': 0, 'positive' : 0, 'neutral' : 0}\n",
    "        print('Title of the post :', submission.title)\n",
    "        text_blob_sentiment(submission.title, sub_entries_textblob)\n",
    "        nltk_sentiment(submission.title, sub_entries_nltk)\n",
    "        print(\"\\n\")\n",
    "        submission_comm = reddit.submission(id=submission.id)\n",
    "\n",
    "        for count, top_level_comment in enumerate(submission_comm.comments):\n",
    "            count_comm = 0\n",
    "            try :\n",
    "                text_blob_sentiment(top_level_comment.body, sub_entries_textblob)\n",
    "                nltk_sentiment(top_level_comment.body, sub_entries_nltk)\n",
    "            except:\n",
    "                continue\n",
    "                \n",
    "        print('Over all Sentiment of Topic by TextBlob :', sub_entries_textblob)\n",
    "        print('Over all Sentiment of Topic by VADER :', sub_entries_nltk)\n",
    "        print(\"\\n\\n\\n\")\n",
    "\n",
    "if __name__ == '__main__' :\n",
    "    main()"
   ]
  }
 ],
 "metadata": {
  "kernelspec": {
   "display_name": "Python 3",
   "language": "python",
   "name": "python3"
  },
  "language_info": {
   "codemirror_mode": {
    "name": "ipython",
    "version": 3
   },
   "file_extension": ".py",
   "mimetype": "text/x-python",
   "name": "python",
   "nbconvert_exporter": "python",
   "pygments_lexer": "ipython3",
   "version": "3.7.4"
  }
 },
 "nbformat": 4,
 "nbformat_minor": 4
}
